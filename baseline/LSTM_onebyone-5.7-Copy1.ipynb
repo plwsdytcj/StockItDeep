{
 "cells": [
  {
   "cell_type": "code",
   "execution_count": 1,
   "metadata": {},
   "outputs": [
    {
     "name": "stderr",
     "output_type": "stream",
     "text": [
      "/Users/chengjielin/tensorflow/lib/python3.6/site-packages/nltk/twitter/__init__.py:20: UserWarning: The twython library has not been installed. Some functionality from the twitter package will not be available.\n",
      "  warnings.warn(\"The twython library has not been installed. \"\n"
     ]
    }
   ],
   "source": [
    "import numpy as np\n",
    "import pandas as pd\n",
    "\n",
    "from nltk.sentiment.vader import SentimentIntensityAnalyzer\n",
    "\n",
    "from sklearn import svm\n",
    "from sklearn.model_selection import cross_val_score"
   ]
  },
  {
   "cell_type": "code",
   "execution_count": 2,
   "metadata": {},
   "outputs": [],
   "source": [
    "price = pd.read_csv(\"price_data.csv\",encoding = \"ISO-8859-1\")\n",
    "news = pd.read_csv(\"news_data.csv\",encoding = \"ISO-8859-1\")"
   ]
  },
  {
   "cell_type": "code",
   "execution_count": 3,
   "metadata": {},
   "outputs": [
    {
     "data": {
      "text/html": [
       "<div>\n",
       "<style>\n",
       "    .dataframe thead tr:only-child th {\n",
       "        text-align: right;\n",
       "    }\n",
       "\n",
       "    .dataframe thead th {\n",
       "        text-align: left;\n",
       "    }\n",
       "\n",
       "    .dataframe tbody tr th {\n",
       "        vertical-align: top;\n",
       "    }\n",
       "</style>\n",
       "<table border=\"1\" class=\"dataframe\">\n",
       "  <thead>\n",
       "    <tr style=\"text-align: right;\">\n",
       "      <th></th>\n",
       "      <th>id</th>\n",
       "      <th>price</th>\n",
       "      <th>timestamp</th>\n",
       "      <th>exchange</th>\n",
       "    </tr>\n",
       "  </thead>\n",
       "  <tbody>\n",
       "    <tr>\n",
       "      <th>0</th>\n",
       "      <td>1</td>\n",
       "      <td>6999.8</td>\n",
       "      <td>1523132235</td>\n",
       "      <td>cex</td>\n",
       "    </tr>\n",
       "    <tr>\n",
       "      <th>1</th>\n",
       "      <td>1</td>\n",
       "      <td>6984.1</td>\n",
       "      <td>1523133211</td>\n",
       "      <td>cex</td>\n",
       "    </tr>\n",
       "    <tr>\n",
       "      <th>2</th>\n",
       "      <td>1</td>\n",
       "      <td>6984.1</td>\n",
       "      <td>1523133241</td>\n",
       "      <td>cex</td>\n",
       "    </tr>\n",
       "    <tr>\n",
       "      <th>3</th>\n",
       "      <td>1</td>\n",
       "      <td>6984.1</td>\n",
       "      <td>1523133272</td>\n",
       "      <td>cex</td>\n",
       "    </tr>\n",
       "    <tr>\n",
       "      <th>4</th>\n",
       "      <td>1</td>\n",
       "      <td>6984.1</td>\n",
       "      <td>1523133303</td>\n",
       "      <td>cex</td>\n",
       "    </tr>\n",
       "  </tbody>\n",
       "</table>\n",
       "</div>"
      ],
      "text/plain": [
       "   id   price   timestamp exchange\n",
       "0   1  6999.8  1523132235      cex\n",
       "1   1  6984.1  1523133211      cex\n",
       "2   1  6984.1  1523133241      cex\n",
       "3   1  6984.1  1523133272      cex\n",
       "4   1  6984.1  1523133303      cex"
      ]
     },
     "execution_count": 3,
     "metadata": {},
     "output_type": "execute_result"
    }
   ],
   "source": [
    "price.head()"
   ]
  },
  {
   "cell_type": "code",
   "execution_count": 4,
   "metadata": {},
   "outputs": [
    {
     "data": {
      "text/html": [
       "<div>\n",
       "<style>\n",
       "    .dataframe thead tr:only-child th {\n",
       "        text-align: right;\n",
       "    }\n",
       "\n",
       "    .dataframe thead th {\n",
       "        text-align: left;\n",
       "    }\n",
       "\n",
       "    .dataframe tbody tr th {\n",
       "        vertical-align: top;\n",
       "    }\n",
       "</style>\n",
       "<table border=\"1\" class=\"dataframe\">\n",
       "  <thead>\n",
       "    <tr style=\"text-align: right;\">\n",
       "      <th></th>\n",
       "      <th>title</th>\n",
       "      <th>time</th>\n",
       "      <th>text</th>\n",
       "      <th>weight</th>\n",
       "      <th>source</th>\n",
       "    </tr>\n",
       "  </thead>\n",
       "  <tbody>\n",
       "    <tr>\n",
       "      <th>0</th>\n",
       "      <td>twitter_post</td>\n",
       "      <td>1523133939</td>\n",
       "      <td>I tested a new utility token out there - Synap...</td>\n",
       "      <td>0</td>\n",
       "      <td>twitter</td>\n",
       "    </tr>\n",
       "    <tr>\n",
       "      <th>1</th>\n",
       "      <td>twitter_post</td>\n",
       "      <td>1523133938</td>\n",
       "      <td>RT @SDWouters: 10 months ago #Bitcoin had 7k f...</td>\n",
       "      <td>28</td>\n",
       "      <td>twitter</td>\n",
       "    </tr>\n",
       "    <tr>\n",
       "      <th>2</th>\n",
       "      <td>twitter_post</td>\n",
       "      <td>1523133937</td>\n",
       "      <td>bitcoin cash 32 Megabyte Block Size Increase a...</td>\n",
       "      <td>0</td>\n",
       "      <td>twitter</td>\n",
       "    </tr>\n",
       "    <tr>\n",
       "      <th>3</th>\n",
       "      <td>twitter_post</td>\n",
       "      <td>1523133937</td>\n",
       "      <td>What is blockchain - the technology behind Bit...</td>\n",
       "      <td>0</td>\n",
       "      <td>twitter</td>\n",
       "    </tr>\n",
       "    <tr>\n",
       "      <th>4</th>\n",
       "      <td>twitter_post</td>\n",
       "      <td>1523133936</td>\n",
       "      <td>RT @Viking7070: Local governments are starting...</td>\n",
       "      <td>3</td>\n",
       "      <td>twitter</td>\n",
       "    </tr>\n",
       "  </tbody>\n",
       "</table>\n",
       "</div>"
      ],
      "text/plain": [
       "          title        time  \\\n",
       "0  twitter_post  1523133939   \n",
       "1  twitter_post  1523133938   \n",
       "2  twitter_post  1523133937   \n",
       "3  twitter_post  1523133937   \n",
       "4  twitter_post  1523133936   \n",
       "\n",
       "                                                text  weight   source  \n",
       "0  I tested a new utility token out there - Synap...       0  twitter  \n",
       "1  RT @SDWouters: 10 months ago #Bitcoin had 7k f...      28  twitter  \n",
       "2  bitcoin cash 32 Megabyte Block Size Increase a...       0  twitter  \n",
       "3  What is blockchain - the technology behind Bit...       0  twitter  \n",
       "4  RT @Viking7070: Local governments are starting...       3  twitter  "
      ]
     },
     "execution_count": 4,
     "metadata": {},
     "output_type": "execute_result"
    }
   ],
   "source": [
    "news.head()"
   ]
  },
  {
   "cell_type": "code",
   "execution_count": 5,
   "metadata": {},
   "outputs": [
    {
     "data": {
      "text/html": [
       "<div>\n",
       "<style>\n",
       "    .dataframe thead tr:only-child th {\n",
       "        text-align: right;\n",
       "    }\n",
       "\n",
       "    .dataframe thead th {\n",
       "        text-align: left;\n",
       "    }\n",
       "\n",
       "    .dataframe tbody tr th {\n",
       "        vertical-align: top;\n",
       "    }\n",
       "</style>\n",
       "<table border=\"1\" class=\"dataframe\">\n",
       "  <thead>\n",
       "    <tr style=\"text-align: right;\">\n",
       "      <th></th>\n",
       "      <th>price</th>\n",
       "      <th>timestamp</th>\n",
       "    </tr>\n",
       "  </thead>\n",
       "  <tbody>\n",
       "    <tr>\n",
       "      <th>0</th>\n",
       "      <td>6999.8</td>\n",
       "      <td>1523132235</td>\n",
       "    </tr>\n",
       "    <tr>\n",
       "      <th>1</th>\n",
       "      <td>6984.1</td>\n",
       "      <td>1523133211</td>\n",
       "    </tr>\n",
       "    <tr>\n",
       "      <th>2</th>\n",
       "      <td>6984.1</td>\n",
       "      <td>1523133241</td>\n",
       "    </tr>\n",
       "    <tr>\n",
       "      <th>3</th>\n",
       "      <td>6984.1</td>\n",
       "      <td>1523133272</td>\n",
       "    </tr>\n",
       "    <tr>\n",
       "      <th>4</th>\n",
       "      <td>6984.1</td>\n",
       "      <td>1523133303</td>\n",
       "    </tr>\n",
       "  </tbody>\n",
       "</table>\n",
       "</div>"
      ],
      "text/plain": [
       "    price   timestamp\n",
       "0  6999.8  1523132235\n",
       "1  6984.1  1523133211\n",
       "2  6984.1  1523133241\n",
       "3  6984.1  1523133272\n",
       "4  6984.1  1523133303"
      ]
     },
     "execution_count": 5,
     "metadata": {},
     "output_type": "execute_result"
    }
   ],
   "source": [
    "price = price.drop(['id','exchange'], 1)\n",
    "price=price.sort_values(by=['timestamp'],ascending=True)\n",
    "price.head()"
   ]
  },
  {
   "cell_type": "code",
   "execution_count": null,
   "metadata": {},
   "outputs": [],
   "source": [
    "price.head()"
   ]
  },
  {
   "cell_type": "code",
   "execution_count": null,
   "metadata": {},
   "outputs": [],
   "source": [
    "price.head(30)"
   ]
  },
  {
   "cell_type": "code",
   "execution_count": 6,
   "metadata": {},
   "outputs": [
    {
     "data": {
      "text/html": [
       "<div>\n",
       "<style>\n",
       "    .dataframe thead tr:only-child th {\n",
       "        text-align: right;\n",
       "    }\n",
       "\n",
       "    .dataframe thead th {\n",
       "        text-align: left;\n",
       "    }\n",
       "\n",
       "    .dataframe tbody tr th {\n",
       "        vertical-align: top;\n",
       "    }\n",
       "</style>\n",
       "<table border=\"1\" class=\"dataframe\">\n",
       "  <thead>\n",
       "    <tr style=\"text-align: right;\">\n",
       "      <th></th>\n",
       "      <th>price</th>\n",
       "      <th>timestamp</th>\n",
       "    </tr>\n",
       "  </thead>\n",
       "  <tbody>\n",
       "    <tr>\n",
       "      <th>0</th>\n",
       "      <td>6999.8</td>\n",
       "      <td>1523132235</td>\n",
       "    </tr>\n",
       "    <tr>\n",
       "      <th>1</th>\n",
       "      <td>6984.1</td>\n",
       "      <td>1523133211</td>\n",
       "    </tr>\n",
       "    <tr>\n",
       "      <th>2</th>\n",
       "      <td>6984.1</td>\n",
       "      <td>1523133241</td>\n",
       "    </tr>\n",
       "    <tr>\n",
       "      <th>3</th>\n",
       "      <td>6984.1</td>\n",
       "      <td>1523133272</td>\n",
       "    </tr>\n",
       "    <tr>\n",
       "      <th>4</th>\n",
       "      <td>6984.1</td>\n",
       "      <td>1523133303</td>\n",
       "    </tr>\n",
       "  </tbody>\n",
       "</table>\n",
       "</div>"
      ],
      "text/plain": [
       "    price   timestamp\n",
       "0  6999.8  1523132235\n",
       "1  6984.1  1523133211\n",
       "2  6984.1  1523133241\n",
       "3  6984.1  1523133272\n",
       "4  6984.1  1523133303"
      ]
     },
     "execution_count": 6,
     "metadata": {},
     "output_type": "execute_result"
    }
   ],
   "source": [
    "price = price[price.price.notnull()]\n",
    "price.head()"
   ]
  },
  {
   "cell_type": "code",
   "execution_count": 7,
   "metadata": {},
   "outputs": [
    {
     "data": {
      "text/html": [
       "<div>\n",
       "<style>\n",
       "    .dataframe thead tr:only-child th {\n",
       "        text-align: right;\n",
       "    }\n",
       "\n",
       "    .dataframe thead th {\n",
       "        text-align: left;\n",
       "    }\n",
       "\n",
       "    .dataframe tbody tr th {\n",
       "        vertical-align: top;\n",
       "    }\n",
       "</style>\n",
       "<table border=\"1\" class=\"dataframe\">\n",
       "  <thead>\n",
       "    <tr style=\"text-align: right;\">\n",
       "      <th></th>\n",
       "      <th>price</th>\n",
       "      <th>timestamp</th>\n",
       "    </tr>\n",
       "  </thead>\n",
       "  <tbody>\n",
       "    <tr>\n",
       "      <th>0</th>\n",
       "      <td>6999.8</td>\n",
       "      <td>1523132235</td>\n",
       "    </tr>\n",
       "    <tr>\n",
       "      <th>1</th>\n",
       "      <td>6984.1</td>\n",
       "      <td>1523133211</td>\n",
       "    </tr>\n",
       "    <tr>\n",
       "      <th>2</th>\n",
       "      <td>6984.1</td>\n",
       "      <td>1523133241</td>\n",
       "    </tr>\n",
       "    <tr>\n",
       "      <th>3</th>\n",
       "      <td>6984.1</td>\n",
       "      <td>1523133272</td>\n",
       "    </tr>\n",
       "    <tr>\n",
       "      <th>4</th>\n",
       "      <td>6984.1</td>\n",
       "      <td>1523133303</td>\n",
       "    </tr>\n",
       "    <tr>\n",
       "      <th>5</th>\n",
       "      <td>6984.1</td>\n",
       "      <td>1523133334</td>\n",
       "    </tr>\n",
       "    <tr>\n",
       "      <th>6</th>\n",
       "      <td>6983.6</td>\n",
       "      <td>1523133364</td>\n",
       "    </tr>\n",
       "    <tr>\n",
       "      <th>7</th>\n",
       "      <td>6983.1</td>\n",
       "      <td>1523133395</td>\n",
       "    </tr>\n",
       "    <tr>\n",
       "      <th>8</th>\n",
       "      <td>6983.1</td>\n",
       "      <td>1523133425</td>\n",
       "    </tr>\n",
       "    <tr>\n",
       "      <th>9</th>\n",
       "      <td>6983.1</td>\n",
       "      <td>1523133456</td>\n",
       "    </tr>\n",
       "    <tr>\n",
       "      <th>10</th>\n",
       "      <td>6983.1</td>\n",
       "      <td>1523133487</td>\n",
       "    </tr>\n",
       "    <tr>\n",
       "      <th>11</th>\n",
       "      <td>6983.1</td>\n",
       "      <td>1523133518</td>\n",
       "    </tr>\n",
       "    <tr>\n",
       "      <th>12</th>\n",
       "      <td>6983.1</td>\n",
       "      <td>1523133551</td>\n",
       "    </tr>\n",
       "    <tr>\n",
       "      <th>13</th>\n",
       "      <td>6983.1</td>\n",
       "      <td>1523133581</td>\n",
       "    </tr>\n",
       "    <tr>\n",
       "      <th>14</th>\n",
       "      <td>6983.1</td>\n",
       "      <td>1523133611</td>\n",
       "    </tr>\n",
       "    <tr>\n",
       "      <th>15</th>\n",
       "      <td>6983.1</td>\n",
       "      <td>1523133642</td>\n",
       "    </tr>\n",
       "    <tr>\n",
       "      <th>16</th>\n",
       "      <td>6983.1</td>\n",
       "      <td>1523133672</td>\n",
       "    </tr>\n",
       "    <tr>\n",
       "      <th>17</th>\n",
       "      <td>6983.1</td>\n",
       "      <td>1523133703</td>\n",
       "    </tr>\n",
       "    <tr>\n",
       "      <th>18</th>\n",
       "      <td>6983.1</td>\n",
       "      <td>1523133733</td>\n",
       "    </tr>\n",
       "    <tr>\n",
       "      <th>19</th>\n",
       "      <td>6983.1</td>\n",
       "      <td>1523133764</td>\n",
       "    </tr>\n",
       "    <tr>\n",
       "      <th>20</th>\n",
       "      <td>6983.1</td>\n",
       "      <td>1523133794</td>\n",
       "    </tr>\n",
       "    <tr>\n",
       "      <th>21</th>\n",
       "      <td>6983.1</td>\n",
       "      <td>1523133824</td>\n",
       "    </tr>\n",
       "    <tr>\n",
       "      <th>22</th>\n",
       "      <td>6983.1</td>\n",
       "      <td>1523133855</td>\n",
       "    </tr>\n",
       "    <tr>\n",
       "      <th>23</th>\n",
       "      <td>6983.1</td>\n",
       "      <td>1523133885</td>\n",
       "    </tr>\n",
       "    <tr>\n",
       "      <th>24</th>\n",
       "      <td>6994.0</td>\n",
       "      <td>1523133916</td>\n",
       "    </tr>\n",
       "    <tr>\n",
       "      <th>25</th>\n",
       "      <td>6997.6</td>\n",
       "      <td>1523133947</td>\n",
       "    </tr>\n",
       "    <tr>\n",
       "      <th>26</th>\n",
       "      <td>6997.6</td>\n",
       "      <td>1523133978</td>\n",
       "    </tr>\n",
       "    <tr>\n",
       "      <th>27</th>\n",
       "      <td>6978.4</td>\n",
       "      <td>1523134008</td>\n",
       "    </tr>\n",
       "    <tr>\n",
       "      <th>28</th>\n",
       "      <td>6982.9</td>\n",
       "      <td>1523134039</td>\n",
       "    </tr>\n",
       "    <tr>\n",
       "      <th>29</th>\n",
       "      <td>6958.6</td>\n",
       "      <td>1523134069</td>\n",
       "    </tr>\n",
       "  </tbody>\n",
       "</table>\n",
       "</div>"
      ],
      "text/plain": [
       "     price   timestamp\n",
       "0   6999.8  1523132235\n",
       "1   6984.1  1523133211\n",
       "2   6984.1  1523133241\n",
       "3   6984.1  1523133272\n",
       "4   6984.1  1523133303\n",
       "5   6984.1  1523133334\n",
       "6   6983.6  1523133364\n",
       "7   6983.1  1523133395\n",
       "8   6983.1  1523133425\n",
       "9   6983.1  1523133456\n",
       "10  6983.1  1523133487\n",
       "11  6983.1  1523133518\n",
       "12  6983.1  1523133551\n",
       "13  6983.1  1523133581\n",
       "14  6983.1  1523133611\n",
       "15  6983.1  1523133642\n",
       "16  6983.1  1523133672\n",
       "17  6983.1  1523133703\n",
       "18  6983.1  1523133733\n",
       "19  6983.1  1523133764\n",
       "20  6983.1  1523133794\n",
       "21  6983.1  1523133824\n",
       "22  6983.1  1523133855\n",
       "23  6983.1  1523133885\n",
       "24  6994.0  1523133916\n",
       "25  6997.6  1523133947\n",
       "26  6997.6  1523133978\n",
       "27  6978.4  1523134008\n",
       "28  6982.9  1523134039\n",
       "29  6958.6  1523134069"
      ]
     },
     "execution_count": 7,
     "metadata": {},
     "output_type": "execute_result"
    }
   ],
   "source": [
    "price.head(30)"
   ]
  },
  {
   "cell_type": "code",
   "execution_count": 8,
   "metadata": {},
   "outputs": [],
   "source": [
    "price_label = []\n",
    "headlines = []\n",
    "for row in price.iterrows():\n",
    "    daily_headlines = []\n",
    "    timestamp = row[1]['timestamp']\n",
    "    price_label.append(row[1]['price'])\n",
    "    i=0\n",
    "    for row_ in news[news.time<=timestamp].iterrows() and news[news.time>(timestamp-30)].iterrows():\n",
    "        #print (row_[1]['weight'])\n",
    "        if(i<30):\n",
    "            i=i+1\n",
    "            daily_headlines.append(row_[1]['text'])\n",
    "        else:\n",
    "            continue\n",
    "            \n",
    "    justb = np.array(daily_headlines)\n",
    "    #print (justb.shape)\n",
    "    headlines.append(justb)\n",
    "       #daily_headlines.append(row_[1]['text'])\n",
    "       # justb = np.array(daily_headlines)\n",
    "       # print (justb.shape)"
   ]
  },
  {
   "cell_type": "code",
   "execution_count": 9,
   "metadata": {},
   "outputs": [
    {
     "data": {
      "text/plain": [
       "(6091, 30)"
      ]
     },
     "execution_count": 9,
     "metadata": {},
     "output_type": "execute_result"
    }
   ],
   "source": [
    "headlines = np.array(headlines)\n",
    "headlines.shape"
   ]
  },
  {
   "cell_type": "code",
   "execution_count": 10,
   "metadata": {},
   "outputs": [
    {
     "name": "stdout",
     "output_type": "stream",
     "text": [
      "[ 'I tested a new utility token out there - SynapseAI \\r\\rDecentralized AI Network -Train automation. Get paid forever.\\x89Û_ https://t.co/EJVCtMQ9Y6'\n",
      " 'RT @SDWouters: 10 months ago #Bitcoin had 7k full nodes vs. 11k today.\\rIn the same timeframe #Ethereum went from 25k full nodes to 15k.\\r\\rMa\\x89Û_'\n",
      " 'bitcoin cash 32 Megabyte Block Size Increase and Op-Code Additions\\r\\rhttps://t.co/JAPAP9WiiQ'\n",
      " 'What is blockchain - the technology behind Bitcoin?  https://t.co/cS21jZrjgQ \\r\\r#blockchain #blockchaintechnology\\x89Û_ https://t.co/EODfA86VnK'\n",
      " 'RT @Viking7070: Local governments are starting to understand.  https://t.co/EKpigTfev6'\n",
      " 'RT @Applancer_pro: Bitcoin finally opens us to new opportunities https://t.co/cvFj6vOinL via @applancer_crypt'\n",
      " \"RT @tvtwocom: What's so special about Interactive Coin Offering? https://t.co/LQu8sPsfzR // #tvrevolution #crypto #cryptocurrencies #bitcoi\\x89Û_\"\n",
      " \"@NickBakhuis @NZXT That's the very cpu I have my eye on.... Just waiting on bitcoin gaining some value again before\\x89Û_ https://t.co/AEO5gCEot6\"\n",
      " '@CryptoLexi when there will be negative sentiment at stock market, bitcoin will plunge too. Lot of charts prove tha\\x89Û_ https://t.co/zrXPOhkHY3'\n",
      " 'Tim Draper: Bitcoin Should Replace the Indian Rupee https://t.co/BJz62J6BrI via @bounty_fett https://t.co/dnZr6TRvO9'\n",
      " 'Perhaps a future built on cryptographically-secured data that can never die is not the future we want?\\r\\rhttps://t.co/7TVKCxQfmV'\n",
      " 'RT @SocialWalletInc: There are 1500+ cryptocurrencies worldwide, and counting! #btc #bitcoin #ltc #litecoin #eth #ethereum #blockchain #blo\\x89Û_'\n",
      " 'RT @rutgervz: With bitcoin core dev @provoost at the @Blockchaingers Hackathon discussing taking Bitcoin to the moon. Literally. With Rocke\\x89Û_'\n",
      " \"RT @SatoshiLite: Lightning is unforgeable forever-redeemable gold certificates to Bitcoin's gold.\\r\\r* also unforgeable forever-redeemable si\\x89Û_\"\n",
      " 'RT @Peurtoken: https://t.co/o5pyFZPow7 is a mobile payment solution to accept Ethereum, all in one step, and can be easily converted to oth\\x89Û_'\n",
      " 'Seems like it is going to repeat, as long as it stairways UP, I am good!  LOL _Ù__- #bitcoin #BitcoinCash\\x89Û_ https://t.co/zueUVYtQGT'\n",
      " 'RT @CoinMetro: #follow us: https://t.co/4wq3nxOKys or visit our official website https://t.co/c4yMmQXiA6\\r#Bitcoin, #Ethereum, #BitcoinCash,\\x89Û_'\n",
      " 'RT @SocialWalletInc: Don\\x89Ûªt lose your wallet! If you lose access to your private and secure wallet- you have lost your money. You should alw\\x89Û_'\n",
      " 'Without the Internet, there is no blockchain. Without blockchain, there is no Bitcoin, without Bitcoin, the entire\\x89Û_ https://t.co/uPWC282CBI'\n",
      " 'Check out your chance to win $1000 in  Bitcoin from @Coincheckup #bitcoin #btc https://t.co/usByQtXvYL'\n",
      " 'RT @guppiix: LOCK &amp; LOADED\\r\\rWE HAVE RESTOCK!\\r\\rGET THEM WELL THEY ARE HOT\\r\\rhttps://t.co/LrTTLZIMRU\\r\\r#cryptocurrency #game #TRX #RESTOCK #Sel\\x89Û_'\n",
      " \"RT @slots_e: While Japan's Financial Authority just clarifies stance on ICO https://t.co/rEjxe2oXf3 the rest of the world joins it. Your tu\\x89Û_\"\n",
      " \"RT @CoinFest: Here's the menu where #CoinFest #Vancouver is currently celebrating. Read the bottom.... #Bitcoin &gt; credit cards https://t.co\\x89Û_\"\n",
      " 'RT @SocialWalletInc: One of the many reasons decentralization is so attractive is because the currency is not regulated by any central gove\\x89Û_'\n",
      " 'RT @murthaburke: save a lot of money! - 40-80% less than retail stores. Shipping is  FREE during 2-day sale\\rhttps://t.co/y26tNSiNjr\\r#blockc\\x89Û_'\n",
      " '#crypto price changes last 4 hours\\r\\r_Ù_Û\\r$RADS +7.93%\\r$BLITZ +6.63%\\r$TKS +5.90%\\r\\r_ÙÎ¤\\x95ü\\x8f\\r$VRM -4.82%\\r$GBG -4.01%\\r$SWT -3.70\\x89Û_ https://t.co/mam10H4QoR'\n",
      " 'RT @tihosay: REGISTER NOW ON THE WEBSITE! https://t.co/guLMSGZZn7 Starts in 7 days..\\r\\r#tihosay #ICO #blockchain #Crypto #presale #PreICO #c\\x89Û_'\n",
      " 'RT @investaco_uk: Investa CEO Interview \\x89ÛÒ Nick Moore\\r\\rhttps://t.co/mgcDlwgDSF\\r\\r#investa #blockchain #crypto #cryptocurrency #bitcoin #btc #\\x89Û_'\n",
      " 'Big boys talking. Look 4 a $SPY 2k drop soon? \\r\\r#StockMarketCrash $FB #cryptohype #cryptocrash #cryptocurrency\\x89Û_ https://t.co/39bV1mrxj4'\n",
      " \"RT @PeerMountain: WOOW! You can't miss that! Peer Mountain's CEO Jed Grant has been chosen as one of the top influential 200 Fintech leader\\x89Û_\"]\n"
     ]
    }
   ],
   "source": [
    "print(headlines[0])"
   ]
  },
  {
   "cell_type": "code",
   "execution_count": 11,
   "metadata": {},
   "outputs": [],
   "source": [
    "contractions = { \n",
    "\"ain't\": \"am not\",\n",
    "\"aren't\": \"are not\",\n",
    "\"can't\": \"cannot\",\n",
    "\"can't've\": \"cannot have\",\n",
    "\"'cause\": \"because\",\n",
    "\"could've\": \"could have\",\n",
    "\"couldn't\": \"could not\",\n",
    "\"couldn't've\": \"could not have\",\n",
    "\"didn't\": \"did not\",\n",
    "\"doesn't\": \"does not\",\n",
    "\"don't\": \"do not\",\n",
    "\"hadn't\": \"had not\",\n",
    "\"hadn't've\": \"had not have\",\n",
    "\"hasn't\": \"has not\",\n",
    "\"haven't\": \"have not\",\n",
    "\"he'd\": \"he would\",\n",
    "\"he'd've\": \"he would have\",\n",
    "\"he'll\": \"he will\",\n",
    "\"he's\": \"he is\",\n",
    "\"how'd\": \"how did\",\n",
    "\"how'll\": \"how will\",\n",
    "\"how's\": \"how is\",\n",
    "\"i'd\": \"i would\",\n",
    "\"i'll\": \"i will\",\n",
    "\"i'm\": \"i am\",\n",
    "\"i've\": \"i have\",\n",
    "\"isn't\": \"is not\",\n",
    "\"it'd\": \"it would\",\n",
    "\"it'll\": \"it will\",\n",
    "\"it's\": \"it is\",\n",
    "\"let's\": \"let us\",\n",
    "\"ma'am\": \"madam\",\n",
    "\"mayn't\": \"may not\",\n",
    "\"might've\": \"might have\",\n",
    "\"mightn't\": \"might not\",\n",
    "\"must've\": \"must have\",\n",
    "\"mustn't\": \"must not\",\n",
    "\"needn't\": \"need not\",\n",
    "\"oughtn't\": \"ought not\",\n",
    "\"shan't\": \"shall not\",\n",
    "\"sha'n't\": \"shall not\",\n",
    "\"she'd\": \"she would\",\n",
    "\"she'll\": \"she will\",\n",
    "\"she's\": \"she is\",\n",
    "\"should've\": \"should have\",\n",
    "\"shouldn't\": \"should not\",\n",
    "\"that'd\": \"that would\",\n",
    "\"that's\": \"that is\",\n",
    "\"there'd\": \"there had\",\n",
    "\"there's\": \"there is\",\n",
    "\"they'd\": \"they would\",\n",
    "\"they'll\": \"they will\",\n",
    "\"they're\": \"they are\",\n",
    "\"they've\": \"they have\",\n",
    "\"wasn't\": \"was not\",\n",
    "\"we'd\": \"we would\",\n",
    "\"we'll\": \"we will\",\n",
    "\"we're\": \"we are\",\n",
    "\"we've\": \"we have\",\n",
    "\"weren't\": \"were not\",\n",
    "\"what'll\": \"what will\",\n",
    "\"what're\": \"what are\",\n",
    "\"what's\": \"what is\",\n",
    "\"what've\": \"what have\",\n",
    "\"where'd\": \"where did\",\n",
    "\"where's\": \"where is\",\n",
    "\"who'll\": \"who will\",\n",
    "\"who's\": \"who is\",\n",
    "\"won't\": \"will not\",\n",
    "\"wouldn't\": \"would not\",\n",
    "\"you'd\": \"you would\",\n",
    "\"you'll\": \"you will\",\n",
    "\"you're\": \"you are\"\n",
    "}"
   ]
  },
  {
   "cell_type": "code",
   "execution_count": 12,
   "metadata": {},
   "outputs": [],
   "source": [
    "def clean_text(text, remove_stopwords = True):\n",
    "    '''Remove unwanted characters and format the text to create fewer nulls word embeddings'''\n",
    "    \n",
    "    # Convert words to lower case\n",
    "    text = text.lower()\n",
    "    \n",
    "    # Replace contractions with their longer forms \n",
    "    if True:\n",
    "        text = text.split()\n",
    "        new_text = []\n",
    "        for word in text:\n",
    "            if word in contractions:\n",
    "                new_text.append(contractions[word])\n",
    "            else:\n",
    "                new_text.append(word)\n",
    "        text = \" \".join(new_text)\n",
    "    \n",
    "    # Format words and remove unwanted characters\n",
    "    text = re.sub(r'&amp;', '', text) \n",
    "    text = re.sub(r'0,0', '00', text) \n",
    "    text = re.sub(r'[_\"\\-;%()|.,+&=*%.,!?:#@\\[\\]]', ' ', text)\n",
    "    text = re.sub(r'\\'', ' ', text)\n",
    "    text = re.sub(r'\\$', ' $ ', text)\n",
    "    text = re.sub(r'u s ', ' united states ', text)\n",
    "    text = re.sub(r'u n ', ' united nations ', text)\n",
    "    text = re.sub(r'u k ', ' united kingdom ', text)\n",
    "    text = re.sub(r'j k ', ' jk ', text)\n",
    "    text = re.sub(r' s ', ' ', text)\n",
    "    text = re.sub(r' yr ', ' year ', text)\n",
    "    text = re.sub(r' l g b t ', ' lgbt ', text)\n",
    "    text = re.sub(r'0km ', '0 km ', text)\n",
    "    \n",
    "    # Optionally, remove stop words\n",
    "    if remove_stopwords:\n",
    "        text = text.split()\n",
    "        stops = set(stopwords.words(\"english\"))\n",
    "        text = [w for w in text if not w in stops]\n",
    "        text = \" \".join(text)\n",
    "\n",
    "    return text"
   ]
  },
  {
   "cell_type": "code",
   "execution_count": 13,
   "metadata": {},
   "outputs": [],
   "source": [
    "import re\n",
    "from nltk.corpus import stopwords\n",
    "clean_headlines = []\n",
    "\n",
    "for daily_headlines in headlines:\n",
    "    clean_daily_headlines = []\n",
    "    for headline in daily_headlines:\n",
    "        clean_daily_headlines.append(clean_text(headline))\n",
    "    clean_headlines.append(clean_daily_headlines)"
   ]
  },
  {
   "cell_type": "code",
   "execution_count": 14,
   "metadata": {},
   "outputs": [
    {
     "data": {
      "text/plain": [
       "(6091, 30)"
      ]
     },
     "execution_count": 14,
     "metadata": {},
     "output_type": "execute_result"
    }
   ],
   "source": [
    "clean_headlines = np.array(clean_headlines)\n",
    "clean_headlines.shape"
   ]
  },
  {
   "cell_type": "code",
   "execution_count": 16,
   "metadata": {},
   "outputs": [
    {
     "data": {
      "text/plain": [
       "array([ 'tested new utility token synapseai decentralized ai network train automation get paid forever \\x89û https //t co/ejvctmq9y6',\n",
       "       'rt sdwouters 10 months ago bitcoin 7k full nodes vs 11k today timeframe ethereum went 25k full nodes 15k ma\\x89û',\n",
       "       'bitcoin cash 32 megabyte block size increase op code additions https //t co/japap9wiiq',\n",
       "       'blockchain technology behind bitcoin https //t co/cs21jzrjgq blockchain blockchaintechnology\\x89û https //t co/eodfa86vnk',\n",
       "       'rt viking7070 local governments starting understand https //t co/ekpigtfev6',\n",
       "       'rt applancer pro bitcoin finally opens us new opportunities https //t co/cvfj6voinl via applancer crypt',\n",
       "       'rt tvtwocom special interactive coin offering https //t co/lqu8spsfzr // tvrevolution crypto cryptocurrencies bitcoi\\x89û',\n",
       "       'nickbakhuis nzxt cpu eye waiting bitcoin gaining value before\\x89û https //t co/aeo5gceot6',\n",
       "       'cryptolexi negative sentiment stock market bitcoin plunge lot charts prove tha\\x89û https //t co/zrxpohkhy3',\n",
       "       'tim draper bitcoin replace indian rupee https //t co/bjz62j6bri via bounty fett https //t co/dnzr6trvo9',\n",
       "       'perhaps future built cryptographically secured data never die future want https //t co/7tvkcxqfmv',\n",
       "       'rt socialwalletinc 1500 cryptocurrencies worldwide counting btc bitcoin ltc litecoin eth ethereum blockchain blo\\x89û',\n",
       "       'rt rutgervz bitcoin core dev provoost blockchaingers hackathon discussing taking bitcoin moon literally rocke\\x89û',\n",
       "       'rt satoshilite lightning unforgeable forever redeemable gold certificates bitcoin gold also unforgeable forever redeemable si\\x89û',\n",
       "       'rt peurtoken https //t co/o5pyfzpow7 mobile payment solution accept ethereum one step easily converted oth\\x89û',\n",
       "       'seems like going repeat long stairways good lol ù bitcoin bitcoincash\\x89û https //t co/zueuvytqgt',\n",
       "       'rt coinmetro follow us https //t co/4wq3nxokys visit official website https //t co/c4ymmqxia6 bitcoin ethereum bitcoincash \\x89û',\n",
       "       'rt socialwalletinc don\\x89ûªt lose wallet lose access private secure wallet lost money alw\\x89û',\n",
       "       'without internet blockchain without blockchain bitcoin without bitcoin entire\\x89û https //t co/upwc282cbi',\n",
       "       'check chance win $ 1000 bitcoin coincheckup bitcoin btc https //t co/usbyqtxvyl',\n",
       "       'rt guppiix lock loaded restock get well hot https //t co/lrttlzimru cryptocurrency game trx restock sel\\x89û',\n",
       "       'rt slots e japan financial authority clarifies stance ico https //t co/rejxe2oxf3 rest world joins tu\\x89û',\n",
       "       'rt coinfest menu coinfest vancouver currently celebrating read bottom bitcoin gt credit cards https //t co\\x89û',\n",
       "       'rt socialwalletinc one many reasons decentralization attractive currency regulated central gove\\x89û',\n",
       "       'rt murthaburke save lot money 40 80 less retail stores shipping free 2 day sale https //t co/y26tnsinjr blockc\\x89û',\n",
       "       'crypto price changes last 4 hours ù û $ rads 7 93 $ blitz 6 63 $ tks 5 90 ùî¤\\x95ü\\x8f $ vrm 4 82 $ gbg 4 01 $ swt 3 70\\x89û https //t co/mam10h4qor',\n",
       "       'rt tihosay register website https //t co/gulmsgzzn7 starts 7 days tihosay ico blockchain crypto presale preico c\\x89û',\n",
       "       'rt investaco uk investa ceo interview \\x89ûò nick moore https //t co/mgcdlwgdsf investa blockchain crypto cryptocurrency bitcoin btc \\x89û',\n",
       "       'big boys talking look 4 $ spy 2k drop soon stockmarketcrash $ fb cryptohype cryptocrash cryptocurrency\\x89û https //t co/39bv1mrxj4',\n",
       "       'rt peermountain woow cannot miss peer mountain ceo jed grant chosen one top influential 200 fintech leader\\x89û'],\n",
       "      dtype='<U3365')"
      ]
     },
     "execution_count": 16,
     "metadata": {},
     "output_type": "execute_result"
    }
   ],
   "source": [
    "clean_headlines[0]"
   ]
  },
  {
   "cell_type": "code",
   "execution_count": 17,
   "metadata": {},
   "outputs": [],
   "source": [
    "def add_avg_sentiment_list(data):\n",
    "    sid = SentimentIntensityAnalyzer()\n",
    "    avgs = []\n",
    "    for i in range(0,len(data)):\n",
    "        inner_avg=[]\n",
    "        for j in range(0,len(data[0])):\n",
    "            sentiments=(sid.polarity_scores(str(data[i][j]))['compound'])\n",
    "            inner_avg.append(float(sentiments))\n",
    "        avgs.append(inner_avg)\n",
    "    avgs = np.array(avgs)\n",
    "    print(avgs.shape)\n",
    "    return avgs"
   ]
  },
  {
   "cell_type": "code",
   "execution_count": 18,
   "metadata": {},
   "outputs": [
    {
     "name": "stdout",
     "output_type": "stream",
     "text": [
      "(6091, 30)\n",
      "sentiment_include\n",
      "(6091, 30)\n"
     ]
    }
   ],
   "source": [
    "sentiment_included = add_avg_sentiment_list(clean_headlines)\n",
    "print(\"sentiment_include\")\n",
    "print(sentiment_included.shape)"
   ]
  },
  {
   "cell_type": "code",
   "execution_count": 21,
   "metadata": {},
   "outputs": [
    {
     "name": "stdout",
     "output_type": "stream",
     "text": [
      "[[ 0.      0.     -0.1531  0.      0.      0.3818  0.4019  0.6369 -0.5719\n",
      "   0.      0.6832  0.      0.      0.      0.743   0.802   0.     -0.6486\n",
      "   0.      0.7003  0.2732  0.296   0.8126  0.4404  0.7579  0.      0.      0.\n",
      "  -0.2732  0.768 ]\n",
      " [ 0.      0.     -0.1531  0.      0.      0.3818  0.4019  0.6369 -0.5719\n",
      "   0.      0.6832  0.      0.      0.      0.743   0.802   0.     -0.6486\n",
      "   0.      0.7003  0.2732  0.296   0.8126  0.4404  0.7579  0.      0.      0.\n",
      "  -0.2732  0.768 ]\n",
      " [ 0.      0.     -0.1531  0.      0.      0.3818  0.4019  0.6369 -0.5719\n",
      "   0.      0.6832  0.      0.      0.      0.743   0.802   0.     -0.6486\n",
      "   0.      0.7003  0.2732  0.296   0.8126  0.4404  0.7579  0.      0.      0.\n",
      "  -0.2732  0.768 ]\n",
      " [ 0.      0.     -0.1531  0.      0.      0.3818  0.4019  0.6369 -0.5719\n",
      "   0.      0.6832  0.      0.      0.      0.743   0.802   0.     -0.6486\n",
      "   0.      0.7003  0.2732  0.296   0.8126  0.4404  0.7579  0.      0.      0.\n",
      "  -0.2732  0.768 ]\n",
      " [ 0.      0.     -0.1531  0.      0.      0.3818  0.4019  0.6369 -0.5719\n",
      "   0.      0.6832  0.      0.      0.      0.743   0.802   0.     -0.6486\n",
      "   0.      0.7003  0.2732  0.296   0.8126  0.4404  0.7579  0.      0.      0.\n",
      "  -0.2732  0.768 ]\n",
      " [ 0.      0.     -0.1531  0.      0.      0.3818  0.4019  0.6369 -0.5719\n",
      "   0.      0.6832  0.      0.      0.      0.743   0.802   0.     -0.6486\n",
      "   0.      0.7003  0.2732  0.296   0.8126  0.4404  0.7579  0.      0.      0.\n",
      "  -0.2732  0.768 ]\n",
      " [ 0.      0.     -0.1531  0.      0.      0.3818  0.4019  0.6369 -0.5719\n",
      "   0.      0.6832  0.      0.      0.      0.743   0.802   0.     -0.6486\n",
      "   0.      0.7003  0.2732  0.296   0.8126  0.4404  0.7579  0.      0.      0.\n",
      "  -0.2732  0.768 ]\n",
      " [ 0.      0.     -0.1531  0.      0.      0.3818  0.4019  0.6369 -0.5719\n",
      "   0.      0.6832  0.      0.      0.      0.743   0.802   0.     -0.6486\n",
      "   0.      0.7003  0.2732  0.296   0.8126  0.4404  0.7579  0.      0.      0.\n",
      "  -0.2732  0.768 ]\n",
      " [ 0.      0.     -0.1531  0.      0.      0.3818  0.4019  0.6369 -0.5719\n",
      "   0.      0.6832  0.      0.      0.      0.743   0.802   0.     -0.6486\n",
      "   0.      0.7003  0.2732  0.296   0.8126  0.4404  0.7579  0.      0.      0.\n",
      "  -0.2732  0.768 ]\n",
      " [ 0.      0.     -0.1531  0.      0.      0.3818  0.4019  0.6369 -0.5719\n",
      "   0.      0.6832  0.      0.      0.      0.743   0.802   0.     -0.6486\n",
      "   0.      0.7003  0.2732  0.296   0.8126  0.4404  0.7579  0.      0.      0.\n",
      "  -0.2732  0.768 ]]\n"
     ]
    }
   ],
   "source": [
    "print(sentiment_included[:10])"
   ]
  },
  {
   "cell_type": "code",
   "execution_count": 20,
   "metadata": {},
   "outputs": [
    {
     "name": "stdout",
     "output_type": "stream",
     "text": [
      "[6999.8000000000002, 6984.1000000000004, 6984.1000000000004, 6984.1000000000004, 6984.1000000000004, 6984.1000000000004, 6983.6000000000004, 6983.1000000000004, 6983.1000000000004, 6983.1000000000004]\n"
     ]
    },
    {
     "ename": "AttributeError",
     "evalue": "'list' object has no attribute 'shape'",
     "output_type": "error",
     "traceback": [
      "\u001b[0;31m---------------------------------------------------------------------------\u001b[0m",
      "\u001b[0;31mAttributeError\u001b[0m                            Traceback (most recent call last)",
      "\u001b[0;32m<ipython-input-20-0c8e367b81c5>\u001b[0m in \u001b[0;36m<module>\u001b[0;34m()\u001b[0m\n\u001b[1;32m      1\u001b[0m \u001b[0mprint\u001b[0m\u001b[0;34m(\u001b[0m\u001b[0mprice_label\u001b[0m\u001b[0;34m[\u001b[0m\u001b[0;36m0\u001b[0m\u001b[0;34m:\u001b[0m\u001b[0;36m10\u001b[0m\u001b[0;34m]\u001b[0m\u001b[0;34m)\u001b[0m\u001b[0;34m\u001b[0m\u001b[0m\n\u001b[0;32m----> 2\u001b[0;31m \u001b[0mprint\u001b[0m\u001b[0;34m(\u001b[0m\u001b[0mprice_label\u001b[0m\u001b[0;34m.\u001b[0m\u001b[0mshape\u001b[0m\u001b[0;34m)\u001b[0m\u001b[0;34m\u001b[0m\u001b[0m\n\u001b[0m",
      "\u001b[0;31mAttributeError\u001b[0m: 'list' object has no attribute 'shape'"
     ]
    }
   ],
   "source": [
    "print(price_label[0:10])"
   ]
  },
  {
   "cell_type": "code",
   "execution_count": 22,
   "metadata": {},
   "outputs": [
    {
     "name": "stdout",
     "output_type": "stream",
     "text": [
      "[ 6999.8  6984.1  6984.1  6984.1  6984.1  6984.1  6983.6  6983.1  6983.1\n",
      "  6983.1]\n",
      "(6091,)\n"
     ]
    }
   ],
   "source": [
    "mylist_label = np.asarray((price_label))\n",
    "print(mylist_label[0:10])\n",
    "print(mylist_label.shape)"
   ]
  },
  {
   "cell_type": "code",
   "execution_count": 23,
   "metadata": {},
   "outputs": [],
   "source": [
    "def divide_train_test(data):\n",
    "\ttrain = data[:4500]\n",
    "\ttest = data[4500:]\n",
    "\treturn train, test"
   ]
  },
  {
   "cell_type": "code",
   "execution_count": 24,
   "metadata": {},
   "outputs": [],
   "source": [
    "train_set, test_set = divide_train_test(sentiment_included)"
   ]
  },
  {
   "cell_type": "code",
   "execution_count": 25,
   "metadata": {},
   "outputs": [
    {
     "name": "stdout",
     "output_type": "stream",
     "text": [
      "train_set\n",
      "(4500, 30)\n"
     ]
    }
   ],
   "source": [
    "print(\"train_set\")\n",
    "print(train_set.shape)"
   ]
  },
  {
   "cell_type": "code",
   "execution_count": 26,
   "metadata": {},
   "outputs": [],
   "source": [
    "def divide_train_label(data):\n",
    "\ttrain = data[:4500]\n",
    "\ttest = data[4500:]\n",
    "\treturn train, test"
   ]
  },
  {
   "cell_type": "code",
   "execution_count": 27,
   "metadata": {},
   "outputs": [],
   "source": [
    "train_label, test_label = divide_train_test(mylist_label)"
   ]
  },
  {
   "cell_type": "code",
   "execution_count": 28,
   "metadata": {},
   "outputs": [
    {
     "name": "stdout",
     "output_type": "stream",
     "text": [
      "train_labels\n",
      "(4500,)\n",
      "[ 6999.8  6984.1  6984.1  6984.1  6984.1  6984.1  6983.6  6983.1  6983.1\n",
      "  6983.1  6983.1  6983.1  6983.1  6983.1  6983.1  6983.1  6983.1  6983.1\n",
      "  6983.1  6983.1  6983.1  6983.1  6983.1  6983.1  6994.   6997.6  6997.6\n",
      "  6978.4  6982.9  6958.6]\n"
     ]
    }
   ],
   "source": [
    "print(\"train_labels\")\n",
    "print(train_label.shape)\n",
    "print(train_label[0:30])"
   ]
  },
  {
   "cell_type": "code",
   "execution_count": 29,
   "metadata": {},
   "outputs": [
    {
     "name": "stdout",
     "output_type": "stream",
     "text": [
      "test_labels\n",
      "(1591,)\n",
      "[ 8195.2  8195.2  8195.3 ...,  8277.   8291.8  8291.4]\n"
     ]
    }
   ],
   "source": [
    "print(\"test_labels\")\n",
    "print(test_label.shape)\n",
    "print(test_label[0:])"
   ]
  },
  {
   "cell_type": "code",
   "execution_count": 30,
   "metadata": {},
   "outputs": [
    {
     "name": "stdout",
     "output_type": "stream",
     "text": [
      "test_set\n",
      "(1591, 30)\n"
     ]
    }
   ],
   "source": [
    "print(\"test_set\")\n",
    "print(test_set.shape)"
   ]
  },
  {
   "cell_type": "code",
   "execution_count": 31,
   "metadata": {},
   "outputs": [
    {
     "name": "stderr",
     "output_type": "stream",
     "text": [
      "Using TensorFlow backend.\n"
     ]
    }
   ],
   "source": [
    "from keras.models import Sequential\n",
    "from keras.layers import Dense\n",
    "from keras.layers import LSTM\n"
   ]
  },
  {
   "cell_type": "code",
   "execution_count": 32,
   "metadata": {},
   "outputs": [],
   "source": [
    "import numpy"
   ]
  },
  {
   "cell_type": "code",
   "execution_count": 33,
   "metadata": {},
   "outputs": [],
   "source": [
    "def train(data, labels):\n",
    "\tprint(data.shape)\n",
    "\tprint(labels.shape)\n",
    "\tX = numpy.reshape(data, (len(data), 1, 30))\n",
    "# normalize\n",
    "\t#X = X / float(len(alphabet))\n",
    "# one hot encode the output variable\n",
    "\t#y = np_utils.to_categorical(dataY)\n",
    "# create and fit the model\n",
    "\tmodel = Sequential()\n",
    "\tmodel.add(LSTM(32, input_shape=(X.shape[1], X.shape[2])))\n",
    "\tmodel.add(Dense(1, activation='softmax'))\n",
    "\tmodel.compile(loss='mean_squared_error', optimizer='adam', metrics=['accuracy'])\n",
    "\tmodel.fit(X,labels, epochs=30, batch_size=1, verbose=2)\n",
    "\treturn model"
   ]
  },
  {
   "cell_type": "code",
   "execution_count": null,
   "metadata": {},
   "outputs": [],
   "source": []
  },
  {
   "cell_type": "code",
   "execution_count": 36,
   "metadata": {},
   "outputs": [
    {
     "name": "stdout",
     "output_type": "stream",
     "text": [
      "(4500, 1)\n",
      "(4500, 30)\n",
      "[[ 6999.8]\n",
      " [ 6984.1]\n",
      " [ 6984.1]\n",
      " [ 6984.1]\n",
      " [ 6984.1]\n",
      " [ 6984.1]\n",
      " [ 6983.6]\n",
      " [ 6983.1]\n",
      " [ 6983.1]\n",
      " [ 6983.1]]\n",
      "[[ 0.      0.     -0.1531  0.      0.      0.3818  0.4019  0.6369 -0.5719\n",
      "   0.      0.6832  0.      0.      0.      0.743   0.802   0.     -0.6486\n",
      "   0.      0.7003  0.2732  0.296   0.8126  0.4404  0.7579  0.      0.      0.\n",
      "  -0.2732  0.768 ]\n",
      " [ 0.      0.     -0.1531  0.      0.      0.3818  0.4019  0.6369 -0.5719\n",
      "   0.      0.6832  0.      0.      0.      0.743   0.802   0.     -0.6486\n",
      "   0.      0.7003  0.2732  0.296   0.8126  0.4404  0.7579  0.      0.      0.\n",
      "  -0.2732  0.768 ]\n",
      " [ 0.      0.     -0.1531  0.      0.      0.3818  0.4019  0.6369 -0.5719\n",
      "   0.      0.6832  0.      0.      0.      0.743   0.802   0.     -0.6486\n",
      "   0.      0.7003  0.2732  0.296   0.8126  0.4404  0.7579  0.      0.      0.\n",
      "  -0.2732  0.768 ]\n",
      " [ 0.      0.     -0.1531  0.      0.      0.3818  0.4019  0.6369 -0.5719\n",
      "   0.      0.6832  0.      0.      0.      0.743   0.802   0.     -0.6486\n",
      "   0.      0.7003  0.2732  0.296   0.8126  0.4404  0.7579  0.      0.      0.\n",
      "  -0.2732  0.768 ]\n",
      " [ 0.      0.     -0.1531  0.      0.      0.3818  0.4019  0.6369 -0.5719\n",
      "   0.      0.6832  0.      0.      0.      0.743   0.802   0.     -0.6486\n",
      "   0.      0.7003  0.2732  0.296   0.8126  0.4404  0.7579  0.      0.      0.\n",
      "  -0.2732  0.768 ]\n",
      " [ 0.      0.     -0.1531  0.      0.      0.3818  0.4019  0.6369 -0.5719\n",
      "   0.      0.6832  0.      0.      0.      0.743   0.802   0.     -0.6486\n",
      "   0.      0.7003  0.2732  0.296   0.8126  0.4404  0.7579  0.      0.      0.\n",
      "  -0.2732  0.768 ]\n",
      " [ 0.      0.     -0.1531  0.      0.      0.3818  0.4019  0.6369 -0.5719\n",
      "   0.      0.6832  0.      0.      0.      0.743   0.802   0.     -0.6486\n",
      "   0.      0.7003  0.2732  0.296   0.8126  0.4404  0.7579  0.      0.      0.\n",
      "  -0.2732  0.768 ]\n",
      " [ 0.      0.     -0.1531  0.      0.      0.3818  0.4019  0.6369 -0.5719\n",
      "   0.      0.6832  0.      0.      0.      0.743   0.802   0.     -0.6486\n",
      "   0.      0.7003  0.2732  0.296   0.8126  0.4404  0.7579  0.      0.      0.\n",
      "  -0.2732  0.768 ]\n",
      " [ 0.      0.     -0.1531  0.      0.      0.3818  0.4019  0.6369 -0.5719\n",
      "   0.      0.6832  0.      0.      0.      0.743   0.802   0.     -0.6486\n",
      "   0.      0.7003  0.2732  0.296   0.8126  0.4404  0.7579  0.      0.      0.\n",
      "  -0.2732  0.768 ]\n",
      " [ 0.      0.     -0.1531  0.      0.      0.3818  0.4019  0.6369 -0.5719\n",
      "   0.      0.6832  0.      0.      0.      0.743   0.802   0.     -0.6486\n",
      "   0.      0.7003  0.2732  0.296   0.8126  0.4404  0.7579  0.      0.      0.\n",
      "  -0.2732  0.768 ]\n",
      " [ 0.      0.     -0.1531  0.      0.      0.3818  0.4019  0.6369 -0.5719\n",
      "   0.      0.6832  0.      0.      0.      0.743   0.802   0.     -0.6486\n",
      "   0.      0.7003  0.2732  0.296   0.8126  0.4404  0.7579  0.      0.      0.\n",
      "  -0.2732  0.768 ]\n",
      " [ 0.      0.     -0.1531  0.      0.      0.3818  0.4019  0.6369 -0.5719\n",
      "   0.      0.6832  0.      0.      0.      0.743   0.802   0.     -0.6486\n",
      "   0.      0.7003  0.2732  0.296   0.8126  0.4404  0.7579  0.      0.      0.\n",
      "  -0.2732  0.768 ]\n",
      " [ 0.      0.     -0.1531  0.      0.      0.3818  0.4019  0.6369 -0.5719\n",
      "   0.      0.6832  0.      0.      0.      0.743   0.802   0.     -0.6486\n",
      "   0.      0.7003  0.2732  0.296   0.8126  0.4404  0.7579  0.      0.      0.\n",
      "  -0.2732  0.768 ]\n",
      " [ 0.      0.     -0.1531  0.      0.      0.3818  0.4019  0.6369 -0.5719\n",
      "   0.      0.6832  0.      0.      0.      0.743   0.802   0.     -0.6486\n",
      "   0.      0.7003  0.2732  0.296   0.8126  0.4404  0.7579  0.      0.      0.\n",
      "  -0.2732  0.768 ]\n",
      " [ 0.      0.     -0.1531  0.      0.      0.3818  0.4019  0.6369 -0.5719\n",
      "   0.      0.6832  0.      0.      0.      0.743   0.802   0.     -0.6486\n",
      "   0.      0.7003  0.2732  0.296   0.8126  0.4404  0.7579  0.      0.      0.\n",
      "  -0.2732  0.768 ]\n",
      " [ 0.      0.     -0.1531  0.      0.      0.3818  0.4019  0.6369 -0.5719\n",
      "   0.      0.6832  0.      0.      0.      0.743   0.802   0.     -0.6486\n",
      "   0.      0.7003  0.2732  0.296   0.8126  0.4404  0.7579  0.      0.      0.\n",
      "  -0.2732  0.768 ]\n",
      " [ 0.      0.     -0.1531  0.      0.      0.3818  0.4019  0.6369 -0.5719\n",
      "   0.      0.6832  0.      0.      0.      0.743   0.802   0.     -0.6486\n",
      "   0.      0.7003  0.2732  0.296   0.8126  0.4404  0.7579  0.      0.      0.\n",
      "  -0.2732  0.768 ]\n",
      " [ 0.      0.     -0.1531  0.      0.      0.3818  0.4019  0.6369 -0.5719\n",
      "   0.      0.6832  0.      0.      0.      0.743   0.802   0.     -0.6486\n",
      "   0.      0.7003  0.2732  0.296   0.8126  0.4404  0.7579  0.      0.      0.\n",
      "  -0.2732  0.768 ]\n",
      " [ 0.      0.     -0.1531  0.      0.      0.3818  0.4019  0.6369 -0.5719\n",
      "   0.      0.6832  0.      0.      0.      0.743   0.802   0.     -0.6486\n",
      "   0.      0.7003  0.2732  0.296   0.8126  0.4404  0.7579  0.      0.      0.\n",
      "  -0.2732  0.768 ]\n",
      " [ 0.      0.     -0.1531  0.      0.      0.3818  0.4019  0.6369 -0.5719\n",
      "   0.      0.6832  0.      0.      0.      0.743   0.802   0.     -0.6486\n",
      "   0.      0.7003  0.2732  0.296   0.8126  0.4404  0.7579  0.      0.      0.\n",
      "  -0.2732  0.768 ]\n",
      " [ 0.      0.     -0.1531  0.      0.      0.3818  0.4019  0.6369 -0.5719\n",
      "   0.      0.6832  0.      0.      0.      0.743   0.802   0.     -0.6486\n",
      "   0.      0.7003  0.2732  0.296   0.8126  0.4404  0.7579  0.      0.      0.\n",
      "  -0.2732  0.768 ]\n",
      " [ 0.      0.     -0.1531  0.      0.      0.3818  0.4019  0.6369 -0.5719\n",
      "   0.      0.6832  0.      0.      0.      0.743   0.802   0.     -0.6486\n",
      "   0.      0.7003  0.2732  0.296   0.8126  0.4404  0.7579  0.      0.      0.\n",
      "  -0.2732  0.768 ]\n",
      " [ 0.      0.     -0.1531  0.      0.      0.3818  0.4019  0.6369 -0.5719\n",
      "   0.      0.6832  0.      0.      0.      0.743   0.802   0.     -0.6486\n",
      "   0.      0.7003  0.2732  0.296   0.8126  0.4404  0.7579  0.      0.      0.\n",
      "  -0.2732  0.768 ]\n",
      " [ 0.      0.     -0.1531  0.      0.      0.3818  0.4019  0.6369 -0.5719\n",
      "   0.      0.6832  0.      0.      0.      0.743   0.802   0.     -0.6486\n",
      "   0.      0.7003  0.2732  0.296   0.8126  0.4404  0.7579  0.      0.      0.\n",
      "  -0.2732  0.768 ]\n",
      " [ 0.      0.     -0.1531  0.      0.      0.3818  0.4019  0.6369 -0.5719\n",
      "   0.      0.6832  0.      0.      0.      0.743   0.802   0.     -0.6486\n",
      "   0.      0.7003  0.2732  0.296   0.8126  0.4404  0.7579  0.      0.      0.\n",
      "  -0.2732  0.768 ]\n",
      " [ 0.      0.     -0.1531  0.      0.      0.3818  0.4019  0.6369 -0.5719\n",
      "   0.      0.6832  0.      0.      0.      0.743   0.802   0.     -0.6486\n",
      "   0.      0.7003  0.2732  0.296   0.8126  0.4404  0.7579  0.      0.6369\n",
      "   0.      0.1531  0.8402]\n",
      " [ 0.6369  0.      0.1531  0.8402  0.      0.3818  0.      0.      0.8126\n",
      "   0.      0.      0.      0.      0.296   0.      0.4404  0.3818  0.5994\n",
      "   0.      0.296   0.875   0.4404 -0.296   0.4939  0.6478  0.      0.4404\n",
      "   0.     -0.6486  0.128 ]\n",
      " [ 0.6369  0.      0.1531  0.8402  0.      0.3818  0.      0.      0.8126\n",
      "   0.      0.      0.      0.      0.296   0.      0.4404  0.3818  0.5994\n",
      "   0.      0.296   0.875   0.4404 -0.296   0.4939  0.6478  0.      0.4404\n",
      "   0.      0.      0.3182]\n",
      " [ 0.      0.      0.      0.      0.      0.      0.      0.      0.3612\n",
      "   0.      0.8271  0.      0.743   0.1779  0.6124  0.      0.      0.4019\n",
      "   0.5423  0.      0.6369  0.      0.      0.      0.128   0.     -0.2732\n",
      "   0.802  -0.296   0.    ]\n",
      " [ 0.      0.6369  0.     -0.2732  0.802  -0.296   0.      0.      0.\n",
      "  -0.1531  0.2023 -0.2263  0.9325  0.4767 -0.6597  0.2732  0.4019  0.\n",
      "   0.7506  0.2732  0.1779  0.      0.     -0.7096 -0.2755  0.128   0.6908\n",
      "   0.      0.3804  0.    ]]\n"
     ]
    }
   ],
   "source": [
    "train_label=numpy.reshape(train_label, (len(train_label),1))\n",
    "print (train_label.shape)\n",
    "print (train_set.shape)\n",
    "print (train_label[0:10])\n",
    "print (train_set[0:30])"
   ]
  },
  {
   "cell_type": "code",
   "execution_count": 35,
   "metadata": {
    "scrolled": true
   },
   "outputs": [
    {
     "name": "stdout",
     "output_type": "stream",
     "text": [
      "(4500, 30)\n",
      "(4500, 1)\n",
      "Epoch 1/30\n",
      "28s - loss: 63991646.7849 - acc: 0.0000e+00\n",
      "Epoch 2/30\n",
      "28s - loss: 63991646.7849 - acc: 0.0000e+00\n",
      "Epoch 3/30\n",
      "27s - loss: 63991646.7849 - acc: 0.0000e+00\n",
      "Epoch 4/30\n",
      "26s - loss: 63991646.7849 - acc: 0.0000e+00\n",
      "Epoch 5/30\n",
      "26s - loss: 63991646.7849 - acc: 0.0000e+00\n",
      "Epoch 6/30\n",
      "26s - loss: 63991646.7849 - acc: 0.0000e+00\n",
      "Epoch 7/30\n",
      "28s - loss: 63991646.7849 - acc: 0.0000e+00\n",
      "Epoch 8/30\n",
      "28s - loss: 63991646.7849 - acc: 0.0000e+00\n",
      "Epoch 9/30\n",
      "27s - loss: 63991646.7849 - acc: 0.0000e+00\n",
      "Epoch 10/30\n",
      "26s - loss: 63991646.7849 - acc: 0.0000e+00\n",
      "Epoch 11/30\n",
      "25s - loss: 63991646.7849 - acc: 0.0000e+00\n",
      "Epoch 12/30\n",
      "25s - loss: 63991646.7849 - acc: 0.0000e+00\n",
      "Epoch 13/30\n",
      "27s - loss: 63991646.7849 - acc: 0.0000e+00\n",
      "Epoch 14/30\n",
      "25s - loss: 63991646.7849 - acc: 0.0000e+00\n",
      "Epoch 15/30\n",
      "25s - loss: 63991646.7849 - acc: 0.0000e+00\n",
      "Epoch 16/30\n",
      "25s - loss: 63991646.7849 - acc: 0.0000e+00\n",
      "Epoch 17/30\n",
      "25s - loss: 63991646.7849 - acc: 0.0000e+00\n",
      "Epoch 18/30\n",
      "25s - loss: 63991646.7849 - acc: 0.0000e+00\n",
      "Epoch 19/30\n",
      "25s - loss: 63991646.7849 - acc: 0.0000e+00\n",
      "Epoch 20/30\n",
      "25s - loss: 63991646.7849 - acc: 0.0000e+00\n",
      "Epoch 21/30\n",
      "25s - loss: 63991646.7849 - acc: 0.0000e+00\n",
      "Epoch 22/30\n",
      "26s - loss: 63991646.7849 - acc: 0.0000e+00\n",
      "Epoch 23/30\n",
      "26s - loss: 63991646.7849 - acc: 0.0000e+00\n",
      "Epoch 24/30\n",
      "25s - loss: 63991646.7849 - acc: 0.0000e+00\n",
      "Epoch 25/30\n",
      "25s - loss: 63991646.7849 - acc: 0.0000e+00\n",
      "Epoch 26/30\n",
      "27s - loss: 63991646.7849 - acc: 0.0000e+00\n",
      "Epoch 27/30\n",
      "29s - loss: 63991646.7849 - acc: 0.0000e+00\n",
      "Epoch 28/30\n",
      "27s - loss: 63991646.7849 - acc: 0.0000e+00\n",
      "Epoch 29/30\n",
      "29s - loss: 63991646.7849 - acc: 0.0000e+00\n",
      "Epoch 30/30\n",
      "30s - loss: 63991646.7849 - acc: 0.0000e+00\n",
      "Training done.\n"
     ]
    }
   ],
   "source": [
    "clsfr = train(train_set, train_label)\n",
    "print(\"Training done.\")"
   ]
  },
  {
   "cell_type": "code",
   "execution_count": 37,
   "metadata": {},
   "outputs": [
    {
     "name": "stdout",
     "output_type": "stream",
     "text": [
      "<keras.models.Sequential object at 0x10d780e10>\n"
     ]
    }
   ],
   "source": [
    "print(clsfr)"
   ]
  },
  {
   "cell_type": "code",
   "execution_count": 38,
   "metadata": {},
   "outputs": [],
   "source": [
    "def cross_validate(data, labels, clsfr):\n",
    "\treturn cross_val_score(clsfr, data, labels, cv=5)"
   ]
  },
  {
   "cell_type": "code",
   "execution_count": 41,
   "metadata": {},
   "outputs": [
    {
     "name": "stdout",
     "output_type": "stream",
     "text": [
      "3520/4500 [======================>.......] - ETA: 0s"
     ]
    }
   ],
   "source": [
    "predictions = clsfr.predict(numpy.reshape(train_set, (len(train_set), 1, 30)), verbose = True) "
   ]
  },
  {
   "cell_type": "code",
   "execution_count": 44,
   "metadata": {},
   "outputs": [
    {
     "name": "stdout",
     "output_type": "stream",
     "text": [
      "[[ 1.]\n",
      " [ 1.]\n",
      " [ 1.]\n",
      " [ 1.]\n",
      " [ 1.]\n",
      " [ 1.]\n",
      " [ 1.]\n",
      " [ 1.]\n",
      " [ 1.]\n",
      " [ 1.]]\n",
      "[[ 6999.8]\n",
      " [ 6984.1]\n",
      " [ 6984.1]\n",
      " [ 6984.1]\n",
      " [ 6984.1]\n",
      " [ 6984.1]\n",
      " [ 6983.6]\n",
      " [ 6983.1]\n",
      " [ 6983.1]\n",
      " [ 6983.1]]\n"
     ]
    }
   ],
   "source": [
    "print(predictions[0:10])\n",
    "print(train_label[0:10])"
   ]
  },
  {
   "cell_type": "code",
   "execution_count": 43,
   "metadata": {},
   "outputs": [
    {
     "data": {
      "image/png": "[encoded data removed]",
      "text/plain": [
       "<matplotlib.figure.Figure at 0x10f443ba8>"
      ]
     },
     "metadata": {},
     "output_type": "display_data"
    }
   ],
   "source": [
    "import matplotlib.pyplot as plt\n",
    "plt.figure(figsize=(12,4))\n",
    "plt.plot(predictions)\n",
    "plt.plot(train_label)\n",
    "plt.title(\"Predicted (blue) vs Actual (green) Opening Price Changes\")\n",
    "plt.xlabel(\"Testing instances\")\n",
    "plt.ylabel(\"Change in Opening Price\")\n",
    "plt.show()"
   ]
  },
  {
   "cell_type": "code",
   "execution_count": 51,
   "metadata": {},
   "outputs": [],
   "source": [
    "def svmtrain(data, labels):\n",
    "\tprint(data.shape)\n",
    "\tprint(labels.shape)\n",
    "\treturn svm.SVR(kernel='linear', C=1).fit(data, labels)"
   ]
  },
  {
   "cell_type": "code",
   "execution_count": 46,
   "metadata": {},
   "outputs": [
    {
     "name": "stdout",
     "output_type": "stream",
     "text": [
      "(4500, 1)\n",
      "(4500, 30)\n"
     ]
    }
   ],
   "source": [
    "print (train_label.shape)\n",
    "print (train_set.shape)"
   ]
  },
  {
   "cell_type": "code",
   "execution_count": 52,
   "metadata": {
    "scrolled": true
   },
   "outputs": [
    {
     "name": "stdout",
     "output_type": "stream",
     "text": [
      "(4500, 30)\n",
      "(4500, 1)\n"
     ]
    },
    {
     "name": "stderr",
     "output_type": "stream",
     "text": [
      "/Users/chengjielin/tensorflow/lib/python3.6/site-packages/sklearn/utils/validation.py:547: DataConversionWarning: A column-vector y was passed when a 1d array was expected. Please change the shape of y to (n_samples, ), for example using ravel().\n",
      "  y = column_or_1d(y, warn=True)\n"
     ]
    }
   ],
   "source": [
    "svmclsfr = svmtrain(train_set, train_label)"
   ]
  },
  {
   "cell_type": "code",
   "execution_count": 55,
   "metadata": {},
   "outputs": [
    {
     "name": "stdout",
     "output_type": "stream",
     "text": [
      "[ 7589.70073981  7589.70073981  7589.70073981  7589.70073981  7589.70073981\n",
      "  7589.70073981  7589.70073981  7589.70073981  7589.70073981  7589.70073981]\n",
      "[[ 6999.8]\n",
      " [ 6984.1]\n",
      " [ 6984.1]\n",
      " [ 6984.1]\n",
      " [ 6984.1]\n",
      " [ 6984.1]\n",
      " [ 6983.6]\n",
      " [ 6983.1]\n",
      " [ 6983.1]\n",
      " [ 6983.1]]\n"
     ]
    }
   ],
   "source": [
    "svmpredictions = svmclsfr.predict(train_set) \n",
    "print(svmpredictions[0:10])\n",
    "print(train_label[0:10])"
   ]
  },
  {
   "cell_type": "code",
   "execution_count": 57,
   "metadata": {},
   "outputs": [
    {
     "data": {
      "text/plain": [
       "<matplotlib.figure.Figure at 0x2749fa8d0>"
      ]
     },
     "metadata": {},
     "output_type": "display_data"
    },
    {
     "data": {
      "image/png": "[encoded data removed]",
      "text/plain": [
       "<matplotlib.figure.Figure at 0x2749e6c18>"
      ]
     },
     "metadata": {},
     "output_type": "display_data"
    }
   ],
   "source": [
    "import matplotlib.pyplot as plt\n",
    "plt.figure(figsize=(12,4))\n",
    "plt.plot(svmpredictions)\n",
    "plt.plot(train_label)\n",
    "plt.title(\"Predicted (blue) vs Actual (green) Opening Price Changes\")\n",
    "plt.xlabel(\"Testing instances\")\n",
    "plt.ylabel(\"Change in Opening Price\")\n",
    "plt.show()"
   ]
  },
  {
   "cell_type": "code",
   "execution_count": null,
   "metadata": {},
   "outputs": [],
   "source": []
  }
 ],
 "metadata": {
  "kernelspec": {
   "display_name": "Python 3",
   "language": "python",
   "name": "python3"
  },
  "language_info": {
   "codemirror_mode": {
    "name": "ipython",
    "version": 3
   },
   "file_extension": ".py",
   "mimetype": "text/x-python",
   "name": "python",
   "nbconvert_exporter": "python",
   "pygments_lexer": "ipython3",
   "version": "3.6.2"
  }
 },
 "nbformat": 4,
 "nbformat_minor": 2
}
