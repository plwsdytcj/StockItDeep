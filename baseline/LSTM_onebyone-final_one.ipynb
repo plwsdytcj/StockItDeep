{
 "cells": [
  {
   "cell_type": "code",
   "execution_count": 1,
   "metadata": {},
   "outputs": [
    {
     "name": "stderr",
     "output_type": "stream",
     "text": [
      "/Users/chengjielin/tensorflow/lib/python3.6/site-packages/nltk/twitter/__init__.py:20: UserWarning: The twython library has not been installed. Some functionality from the twitter package will not be available.\n",
      "  warnings.warn(\"The twython library has not been installed. \"\n"
     ]
    }
   ],
   "source": [
    "import numpy as np\n",
    "import pandas as pd\n",
    "\n",
    "from nltk.sentiment.vader import SentimentIntensityAnalyzer\n",
    "\n",
    "from sklearn import svm\n",
    "from sklearn.model_selection import cross_val_score"
   ]
  },
  {
   "cell_type": "code",
   "execution_count": 2,
   "metadata": {},
   "outputs": [],
   "source": [
    "price = pd.read_csv(\"price_data.csv\",encoding = \"ISO-8859-1\")\n",
    "news = pd.read_csv(\"news_data.csv\",encoding = \"ISO-8859-1\")"
   ]
  },
  {
   "cell_type": "code",
   "execution_count": 3,
   "metadata": {},
   "outputs": [
    {
     "data": {
      "text/html": [
       "<div>\n",
       "<style>\n",
       "    .dataframe thead tr:only-child th {\n",
       "        text-align: right;\n",
       "    }\n",
       "\n",
       "    .dataframe thead th {\n",
       "        text-align: left;\n",
       "    }\n",
       "\n",
       "    .dataframe tbody tr th {\n",
       "        vertical-align: top;\n",
       "    }\n",
       "</style>\n",
       "<table border=\"1\" class=\"dataframe\">\n",
       "  <thead>\n",
       "    <tr style=\"text-align: right;\">\n",
       "      <th></th>\n",
       "      <th>id</th>\n",
       "      <th>price</th>\n",
       "      <th>timestamp</th>\n",
       "      <th>exchange</th>\n",
       "    </tr>\n",
       "  </thead>\n",
       "  <tbody>\n",
       "    <tr>\n",
       "      <th>0</th>\n",
       "      <td>1</td>\n",
       "      <td>6999.8</td>\n",
       "      <td>1523132235</td>\n",
       "      <td>cex</td>\n",
       "    </tr>\n",
       "    <tr>\n",
       "      <th>1</th>\n",
       "      <td>1</td>\n",
       "      <td>6984.1</td>\n",
       "      <td>1523133211</td>\n",
       "      <td>cex</td>\n",
       "    </tr>\n",
       "    <tr>\n",
       "      <th>2</th>\n",
       "      <td>1</td>\n",
       "      <td>6984.1</td>\n",
       "      <td>1523133241</td>\n",
       "      <td>cex</td>\n",
       "    </tr>\n",
       "    <tr>\n",
       "      <th>3</th>\n",
       "      <td>1</td>\n",
       "      <td>6984.1</td>\n",
       "      <td>1523133272</td>\n",
       "      <td>cex</td>\n",
       "    </tr>\n",
       "    <tr>\n",
       "      <th>4</th>\n",
       "      <td>1</td>\n",
       "      <td>6984.1</td>\n",
       "      <td>1523133303</td>\n",
       "      <td>cex</td>\n",
       "    </tr>\n",
       "  </tbody>\n",
       "</table>\n",
       "</div>"
      ],
      "text/plain": [
       "   id   price   timestamp exchange\n",
       "0   1  6999.8  1523132235      cex\n",
       "1   1  6984.1  1523133211      cex\n",
       "2   1  6984.1  1523133241      cex\n",
       "3   1  6984.1  1523133272      cex\n",
       "4   1  6984.1  1523133303      cex"
      ]
     },
     "execution_count": 3,
     "metadata": {},
     "output_type": "execute_result"
    }
   ],
   "source": [
    "price.head()"
   ]
  },
  {
   "cell_type": "code",
   "execution_count": 239,
   "metadata": {},
   "outputs": [
    {
     "data": {
      "text/html": [
       "<div>\n",
       "<style>\n",
       "    .dataframe thead tr:only-child th {\n",
       "        text-align: right;\n",
       "    }\n",
       "\n",
       "    .dataframe thead th {\n",
       "        text-align: left;\n",
       "    }\n",
       "\n",
       "    .dataframe tbody tr th {\n",
       "        vertical-align: top;\n",
       "    }\n",
       "</style>\n",
       "<table border=\"1\" class=\"dataframe\">\n",
       "  <thead>\n",
       "    <tr style=\"text-align: right;\">\n",
       "      <th></th>\n",
       "      <th>title</th>\n",
       "      <th>time</th>\n",
       "      <th>text</th>\n",
       "      <th>weight</th>\n",
       "      <th>source</th>\n",
       "    </tr>\n",
       "  </thead>\n",
       "  <tbody>\n",
       "    <tr>\n",
       "      <th>0</th>\n",
       "      <td>twitter_post</td>\n",
       "      <td>1523133939</td>\n",
       "      <td>I tested a new utility token out there - Synap...</td>\n",
       "      <td>0</td>\n",
       "      <td>twitter</td>\n",
       "    </tr>\n",
       "    <tr>\n",
       "      <th>1</th>\n",
       "      <td>twitter_post</td>\n",
       "      <td>1523133938</td>\n",
       "      <td>RT @SDWouters: 10 months ago #Bitcoin had 7k f...</td>\n",
       "      <td>28</td>\n",
       "      <td>twitter</td>\n",
       "    </tr>\n",
       "    <tr>\n",
       "      <th>2</th>\n",
       "      <td>twitter_post</td>\n",
       "      <td>1523133937</td>\n",
       "      <td>bitcoin cash 32 Megabyte Block Size Increase a...</td>\n",
       "      <td>0</td>\n",
       "      <td>twitter</td>\n",
       "    </tr>\n",
       "    <tr>\n",
       "      <th>3</th>\n",
       "      <td>twitter_post</td>\n",
       "      <td>1523133937</td>\n",
       "      <td>What is blockchain - the technology behind Bit...</td>\n",
       "      <td>0</td>\n",
       "      <td>twitter</td>\n",
       "    </tr>\n",
       "    <tr>\n",
       "      <th>4</th>\n",
       "      <td>twitter_post</td>\n",
       "      <td>1523133936</td>\n",
       "      <td>RT @Viking7070: Local governments are starting...</td>\n",
       "      <td>3</td>\n",
       "      <td>twitter</td>\n",
       "    </tr>\n",
       "  </tbody>\n",
       "</table>\n",
       "</div>"
      ],
      "text/plain": [
       "          title        time  \\\n",
       "0  twitter_post  1523133939   \n",
       "1  twitter_post  1523133938   \n",
       "2  twitter_post  1523133937   \n",
       "3  twitter_post  1523133937   \n",
       "4  twitter_post  1523133936   \n",
       "\n",
       "                                                text  weight   source  \n",
       "0  I tested a new utility token out there - Synap...       0  twitter  \n",
       "1  RT @SDWouters: 10 months ago #Bitcoin had 7k f...      28  twitter  \n",
       "2  bitcoin cash 32 Megabyte Block Size Increase a...       0  twitter  \n",
       "3  What is blockchain - the technology behind Bit...       0  twitter  \n",
       "4  RT @Viking7070: Local governments are starting...       3  twitter  "
      ]
     },
     "execution_count": 239,
     "metadata": {},
     "output_type": "execute_result"
    }
   ],
   "source": [
    "news.head()"
   ]
  },
  {
   "cell_type": "code",
   "execution_count": 4,
   "metadata": {},
   "outputs": [
    {
     "data": {
      "text/html": [
       "<div>\n",
       "<style>\n",
       "    .dataframe thead tr:only-child th {\n",
       "        text-align: right;\n",
       "    }\n",
       "\n",
       "    .dataframe thead th {\n",
       "        text-align: left;\n",
       "    }\n",
       "\n",
       "    .dataframe tbody tr th {\n",
       "        vertical-align: top;\n",
       "    }\n",
       "</style>\n",
       "<table border=\"1\" class=\"dataframe\">\n",
       "  <thead>\n",
       "    <tr style=\"text-align: right;\">\n",
       "      <th></th>\n",
       "      <th>price</th>\n",
       "      <th>timestamp</th>\n",
       "    </tr>\n",
       "  </thead>\n",
       "  <tbody>\n",
       "    <tr>\n",
       "      <th>0</th>\n",
       "      <td>6999.8</td>\n",
       "      <td>1523132235</td>\n",
       "    </tr>\n",
       "    <tr>\n",
       "      <th>1</th>\n",
       "      <td>6984.1</td>\n",
       "      <td>1523133211</td>\n",
       "    </tr>\n",
       "    <tr>\n",
       "      <th>2</th>\n",
       "      <td>6984.1</td>\n",
       "      <td>1523133241</td>\n",
       "    </tr>\n",
       "    <tr>\n",
       "      <th>3</th>\n",
       "      <td>6984.1</td>\n",
       "      <td>1523133272</td>\n",
       "    </tr>\n",
       "    <tr>\n",
       "      <th>4</th>\n",
       "      <td>6984.1</td>\n",
       "      <td>1523133303</td>\n",
       "    </tr>\n",
       "  </tbody>\n",
       "</table>\n",
       "</div>"
      ],
      "text/plain": [
       "    price   timestamp\n",
       "0  6999.8  1523132235\n",
       "1  6984.1  1523133211\n",
       "2  6984.1  1523133241\n",
       "3  6984.1  1523133272\n",
       "4  6984.1  1523133303"
      ]
     },
     "execution_count": 4,
     "metadata": {},
     "output_type": "execute_result"
    }
   ],
   "source": [
    "price = price.drop(['id','exchange'], 1)\n",
    "price=price.sort_values(by=['timestamp'],ascending=True)\n",
    "price.head()"
   ]
  },
  {
   "cell_type": "code",
   "execution_count": null,
   "metadata": {},
   "outputs": [],
   "source": [
    "price.head()"
   ]
  },
  {
   "cell_type": "code",
   "execution_count": null,
   "metadata": {},
   "outputs": [],
   "source": [
    "price.head(30)"
   ]
  },
  {
   "cell_type": "code",
   "execution_count": 5,
   "metadata": {},
   "outputs": [
    {
     "data": {
      "text/html": [
       "<div>\n",
       "<style>\n",
       "    .dataframe thead tr:only-child th {\n",
       "        text-align: right;\n",
       "    }\n",
       "\n",
       "    .dataframe thead th {\n",
       "        text-align: left;\n",
       "    }\n",
       "\n",
       "    .dataframe tbody tr th {\n",
       "        vertical-align: top;\n",
       "    }\n",
       "</style>\n",
       "<table border=\"1\" class=\"dataframe\">\n",
       "  <thead>\n",
       "    <tr style=\"text-align: right;\">\n",
       "      <th></th>\n",
       "      <th>price</th>\n",
       "      <th>timestamp</th>\n",
       "    </tr>\n",
       "  </thead>\n",
       "  <tbody>\n",
       "    <tr>\n",
       "      <th>0</th>\n",
       "      <td>6999.8</td>\n",
       "      <td>1523132235</td>\n",
       "    </tr>\n",
       "    <tr>\n",
       "      <th>1</th>\n",
       "      <td>6984.1</td>\n",
       "      <td>1523133211</td>\n",
       "    </tr>\n",
       "    <tr>\n",
       "      <th>2</th>\n",
       "      <td>6984.1</td>\n",
       "      <td>1523133241</td>\n",
       "    </tr>\n",
       "    <tr>\n",
       "      <th>3</th>\n",
       "      <td>6984.1</td>\n",
       "      <td>1523133272</td>\n",
       "    </tr>\n",
       "    <tr>\n",
       "      <th>4</th>\n",
       "      <td>6984.1</td>\n",
       "      <td>1523133303</td>\n",
       "    </tr>\n",
       "  </tbody>\n",
       "</table>\n",
       "</div>"
      ],
      "text/plain": [
       "    price   timestamp\n",
       "0  6999.8  1523132235\n",
       "1  6984.1  1523133211\n",
       "2  6984.1  1523133241\n",
       "3  6984.1  1523133272\n",
       "4  6984.1  1523133303"
      ]
     },
     "execution_count": 5,
     "metadata": {},
     "output_type": "execute_result"
    }
   ],
   "source": [
    "price = price[price.price.notnull()]\n",
    "price.head()"
   ]
  },
  {
   "cell_type": "code",
   "execution_count": null,
   "metadata": {},
   "outputs": [],
   "source": [
    "price.head(30)"
   ]
  },
  {
   "cell_type": "code",
   "execution_count": 6,
   "metadata": {},
   "outputs": [],
   "source": [
    "price_label = []\n",
    "headlines = []\n",
    "for row in price.iterrows():\n",
    "    daily_headlines = []\n",
    "    timestamp = row[1]['timestamp']\n",
    "    price_label.append(row[1]['price'])\n",
    "    i=0\n",
    "    for row_ in news[news.time<=timestamp].iterrows() and news[news.time>(timestamp-30)].iterrows():\n",
    "        #print (row_[1]['weight'])\n",
    "        if(i<30):\n",
    "            i=i+1\n",
    "            daily_headlines.append(row_[1]['text'])\n",
    "        else:\n",
    "            continue\n",
    "            \n",
    "    justb = np.array(daily_headlines)\n",
    "    #print (justb.shape)\n",
    "    headlines.append(justb)\n",
    "       #daily_headlines.append(row_[1]['text'])\n",
    "       # justb = np.array(daily_headlines)\n",
    "       # print (justb.shape)"
   ]
  },
  {
   "cell_type": "code",
   "execution_count": 7,
   "metadata": {},
   "outputs": [
    {
     "data": {
      "text/plain": [
       "(6091, 30)"
      ]
     },
     "execution_count": 7,
     "metadata": {},
     "output_type": "execute_result"
    }
   ],
   "source": [
    "headlines = np.array(headlines)\n",
    "headlines.shape"
   ]
  },
  {
   "cell_type": "code",
   "execution_count": 8,
   "metadata": {},
   "outputs": [
    {
     "name": "stdout",
     "output_type": "stream",
     "text": [
      "[ 'I tested a new utility token out there - SynapseAI \\r\\rDecentralized AI Network -Train automation. Get paid forever.\\x89Û_ https://t.co/EJVCtMQ9Y6'\n",
      " 'RT @SDWouters: 10 months ago #Bitcoin had 7k full nodes vs. 11k today.\\rIn the same timeframe #Ethereum went from 25k full nodes to 15k.\\r\\rMa\\x89Û_'\n",
      " 'bitcoin cash 32 Megabyte Block Size Increase and Op-Code Additions\\r\\rhttps://t.co/JAPAP9WiiQ'\n",
      " 'What is blockchain - the technology behind Bitcoin?  https://t.co/cS21jZrjgQ \\r\\r#blockchain #blockchaintechnology\\x89Û_ https://t.co/EODfA86VnK'\n",
      " 'RT @Viking7070: Local governments are starting to understand.  https://t.co/EKpigTfev6'\n",
      " 'RT @Applancer_pro: Bitcoin finally opens us to new opportunities https://t.co/cvFj6vOinL via @applancer_crypt'\n",
      " \"RT @tvtwocom: What's so special about Interactive Coin Offering? https://t.co/LQu8sPsfzR // #tvrevolution #crypto #cryptocurrencies #bitcoi\\x89Û_\"\n",
      " \"@NickBakhuis @NZXT That's the very cpu I have my eye on.... Just waiting on bitcoin gaining some value again before\\x89Û_ https://t.co/AEO5gCEot6\"\n",
      " '@CryptoLexi when there will be negative sentiment at stock market, bitcoin will plunge too. Lot of charts prove tha\\x89Û_ https://t.co/zrXPOhkHY3'\n",
      " 'Tim Draper: Bitcoin Should Replace the Indian Rupee https://t.co/BJz62J6BrI via @bounty_fett https://t.co/dnZr6TRvO9'\n",
      " 'Perhaps a future built on cryptographically-secured data that can never die is not the future we want?\\r\\rhttps://t.co/7TVKCxQfmV'\n",
      " 'RT @SocialWalletInc: There are 1500+ cryptocurrencies worldwide, and counting! #btc #bitcoin #ltc #litecoin #eth #ethereum #blockchain #blo\\x89Û_'\n",
      " 'RT @rutgervz: With bitcoin core dev @provoost at the @Blockchaingers Hackathon discussing taking Bitcoin to the moon. Literally. With Rocke\\x89Û_'\n",
      " \"RT @SatoshiLite: Lightning is unforgeable forever-redeemable gold certificates to Bitcoin's gold.\\r\\r* also unforgeable forever-redeemable si\\x89Û_\"\n",
      " 'RT @Peurtoken: https://t.co/o5pyFZPow7 is a mobile payment solution to accept Ethereum, all in one step, and can be easily converted to oth\\x89Û_'\n",
      " 'Seems like it is going to repeat, as long as it stairways UP, I am good!  LOL _Ù__- #bitcoin #BitcoinCash\\x89Û_ https://t.co/zueUVYtQGT'\n",
      " 'RT @CoinMetro: #follow us: https://t.co/4wq3nxOKys or visit our official website https://t.co/c4yMmQXiA6\\r#Bitcoin, #Ethereum, #BitcoinCash,\\x89Û_'\n",
      " 'RT @SocialWalletInc: Don\\x89Ûªt lose your wallet! If you lose access to your private and secure wallet- you have lost your money. You should alw\\x89Û_'\n",
      " 'Without the Internet, there is no blockchain. Without blockchain, there is no Bitcoin, without Bitcoin, the entire\\x89Û_ https://t.co/uPWC282CBI'\n",
      " 'Check out your chance to win $1000 in  Bitcoin from @Coincheckup #bitcoin #btc https://t.co/usByQtXvYL'\n",
      " 'RT @guppiix: LOCK &amp; LOADED\\r\\rWE HAVE RESTOCK!\\r\\rGET THEM WELL THEY ARE HOT\\r\\rhttps://t.co/LrTTLZIMRU\\r\\r#cryptocurrency #game #TRX #RESTOCK #Sel\\x89Û_'\n",
      " \"RT @slots_e: While Japan's Financial Authority just clarifies stance on ICO https://t.co/rEjxe2oXf3 the rest of the world joins it. Your tu\\x89Û_\"\n",
      " \"RT @CoinFest: Here's the menu where #CoinFest #Vancouver is currently celebrating. Read the bottom.... #Bitcoin &gt; credit cards https://t.co\\x89Û_\"\n",
      " 'RT @SocialWalletInc: One of the many reasons decentralization is so attractive is because the currency is not regulated by any central gove\\x89Û_'\n",
      " 'RT @murthaburke: save a lot of money! - 40-80% less than retail stores. Shipping is  FREE during 2-day sale\\rhttps://t.co/y26tNSiNjr\\r#blockc\\x89Û_'\n",
      " '#crypto price changes last 4 hours\\r\\r_Ù_Û\\r$RADS +7.93%\\r$BLITZ +6.63%\\r$TKS +5.90%\\r\\r_ÙÎ¤\\x95ü\\x8f\\r$VRM -4.82%\\r$GBG -4.01%\\r$SWT -3.70\\x89Û_ https://t.co/mam10H4QoR'\n",
      " 'RT @tihosay: REGISTER NOW ON THE WEBSITE! https://t.co/guLMSGZZn7 Starts in 7 days..\\r\\r#tihosay #ICO #blockchain #Crypto #presale #PreICO #c\\x89Û_'\n",
      " 'RT @investaco_uk: Investa CEO Interview \\x89ÛÒ Nick Moore\\r\\rhttps://t.co/mgcDlwgDSF\\r\\r#investa #blockchain #crypto #cryptocurrency #bitcoin #btc #\\x89Û_'\n",
      " 'Big boys talking. Look 4 a $SPY 2k drop soon? \\r\\r#StockMarketCrash $FB #cryptohype #cryptocrash #cryptocurrency\\x89Û_ https://t.co/39bV1mrxj4'\n",
      " \"RT @PeerMountain: WOOW! You can't miss that! Peer Mountain's CEO Jed Grant has been chosen as one of the top influential 200 Fintech leader\\x89Û_\"]\n"
     ]
    }
   ],
   "source": [
    "print(headlines[0])"
   ]
  },
  {
   "cell_type": "code",
   "execution_count": 9,
   "metadata": {},
   "outputs": [],
   "source": [
    "contractions = { \n",
    "\"ain't\": \"am not\",\n",
    "\"aren't\": \"are not\",\n",
    "\"can't\": \"cannot\",\n",
    "\"can't've\": \"cannot have\",\n",
    "\"'cause\": \"because\",\n",
    "\"could've\": \"could have\",\n",
    "\"couldn't\": \"could not\",\n",
    "\"couldn't've\": \"could not have\",\n",
    "\"didn't\": \"did not\",\n",
    "\"doesn't\": \"does not\",\n",
    "\"don't\": \"do not\",\n",
    "\"hadn't\": \"had not\",\n",
    "\"hadn't've\": \"had not have\",\n",
    "\"hasn't\": \"has not\",\n",
    "\"haven't\": \"have not\",\n",
    "\"he'd\": \"he would\",\n",
    "\"he'd've\": \"he would have\",\n",
    "\"he'll\": \"he will\",\n",
    "\"he's\": \"he is\",\n",
    "\"how'd\": \"how did\",\n",
    "\"how'll\": \"how will\",\n",
    "\"how's\": \"how is\",\n",
    "\"i'd\": \"i would\",\n",
    "\"i'll\": \"i will\",\n",
    "\"i'm\": \"i am\",\n",
    "\"i've\": \"i have\",\n",
    "\"isn't\": \"is not\",\n",
    "\"it'd\": \"it would\",\n",
    "\"it'll\": \"it will\",\n",
    "\"it's\": \"it is\",\n",
    "\"let's\": \"let us\",\n",
    "\"ma'am\": \"madam\",\n",
    "\"mayn't\": \"may not\",\n",
    "\"might've\": \"might have\",\n",
    "\"mightn't\": \"might not\",\n",
    "\"must've\": \"must have\",\n",
    "\"mustn't\": \"must not\",\n",
    "\"needn't\": \"need not\",\n",
    "\"oughtn't\": \"ought not\",\n",
    "\"shan't\": \"shall not\",\n",
    "\"sha'n't\": \"shall not\",\n",
    "\"she'd\": \"she would\",\n",
    "\"she'll\": \"she will\",\n",
    "\"she's\": \"she is\",\n",
    "\"should've\": \"should have\",\n",
    "\"shouldn't\": \"should not\",\n",
    "\"that'd\": \"that would\",\n",
    "\"that's\": \"that is\",\n",
    "\"there'd\": \"there had\",\n",
    "\"there's\": \"there is\",\n",
    "\"they'd\": \"they would\",\n",
    "\"they'll\": \"they will\",\n",
    "\"they're\": \"they are\",\n",
    "\"they've\": \"they have\",\n",
    "\"wasn't\": \"was not\",\n",
    "\"we'd\": \"we would\",\n",
    "\"we'll\": \"we will\",\n",
    "\"we're\": \"we are\",\n",
    "\"we've\": \"we have\",\n",
    "\"weren't\": \"were not\",\n",
    "\"what'll\": \"what will\",\n",
    "\"what're\": \"what are\",\n",
    "\"what's\": \"what is\",\n",
    "\"what've\": \"what have\",\n",
    "\"where'd\": \"where did\",\n",
    "\"where's\": \"where is\",\n",
    "\"who'll\": \"who will\",\n",
    "\"who's\": \"who is\",\n",
    "\"won't\": \"will not\",\n",
    "\"wouldn't\": \"would not\",\n",
    "\"you'd\": \"you would\",\n",
    "\"you'll\": \"you will\",\n",
    "\"you're\": \"you are\"\n",
    "}"
   ]
  },
  {
   "cell_type": "code",
   "execution_count": 10,
   "metadata": {},
   "outputs": [],
   "source": [
    "def clean_text(text, remove_stopwords = True):\n",
    "    '''Remove unwanted characters and format the text to create fewer nulls word embeddings'''\n",
    "    \n",
    "    # Convert words to lower case\n",
    "    text = text.lower()\n",
    "    \n",
    "    # Replace contractions with their longer forms \n",
    "    if True:\n",
    "        text = text.split()\n",
    "        new_text = []\n",
    "        for word in text:\n",
    "            if word in contractions:\n",
    "                new_text.append(contractions[word])\n",
    "            else:\n",
    "                new_text.append(word)\n",
    "        text = \" \".join(new_text)\n",
    "    \n",
    "    # Format words and remove unwanted characters\n",
    "    text = re.sub(r'&amp;', '', text) \n",
    "    text = re.sub(r'0,0', '00', text) \n",
    "    text = re.sub(r'[_\"\\-;%()|.,+&=*%.,!?:#@\\[\\]]', ' ', text)\n",
    "    text = re.sub(r'\\'', ' ', text)\n",
    "    text = re.sub(r'\\$', ' $ ', text)\n",
    "    text = re.sub(r'u s ', ' united states ', text)\n",
    "    text = re.sub(r'u n ', ' united nations ', text)\n",
    "    text = re.sub(r'u k ', ' united kingdom ', text)\n",
    "    text = re.sub(r'j k ', ' jk ', text)\n",
    "    text = re.sub(r' s ', ' ', text)\n",
    "    text = re.sub(r' yr ', ' year ', text)\n",
    "    text = re.sub(r' l g b t ', ' lgbt ', text)\n",
    "    text = re.sub(r'0km ', '0 km ', text)\n",
    "    \n",
    "    # Optionally, remove stop words\n",
    "    if remove_stopwords:\n",
    "        text = text.split()\n",
    "        stops = set(stopwords.words(\"english\"))\n",
    "        text = [w for w in text if not w in stops]\n",
    "        text = \" \".join(text)\n",
    "\n",
    "    return text"
   ]
  },
  {
   "cell_type": "code",
   "execution_count": 11,
   "metadata": {},
   "outputs": [],
   "source": [
    "import re\n",
    "from nltk.corpus import stopwords\n",
    "clean_headlines = []\n",
    "\n",
    "for daily_headlines in headlines:\n",
    "    clean_daily_headlines = []\n",
    "    for headline in daily_headlines:\n",
    "        clean_daily_headlines.append(clean_text(headline))\n",
    "    clean_headlines.append(clean_daily_headlines)"
   ]
  },
  {
   "cell_type": "code",
   "execution_count": 12,
   "metadata": {},
   "outputs": [
    {
     "data": {
      "text/plain": [
       "(6091, 30)"
      ]
     },
     "execution_count": 12,
     "metadata": {},
     "output_type": "execute_result"
    }
   ],
   "source": [
    "clean_headlines = np.array(clean_headlines)\n",
    "clean_headlines.shape"
   ]
  },
  {
   "cell_type": "code",
   "execution_count": 13,
   "metadata": {},
   "outputs": [
    {
     "data": {
      "text/plain": [
       "array([ 'tested new utility token synapseai decentralized ai network train automation get paid forever \\x89û https //t co/ejvctmq9y6',\n",
       "       'rt sdwouters 10 months ago bitcoin 7k full nodes vs 11k today timeframe ethereum went 25k full nodes 15k ma\\x89û',\n",
       "       'bitcoin cash 32 megabyte block size increase op code additions https //t co/japap9wiiq',\n",
       "       'blockchain technology behind bitcoin https //t co/cs21jzrjgq blockchain blockchaintechnology\\x89û https //t co/eodfa86vnk',\n",
       "       'rt viking7070 local governments starting understand https //t co/ekpigtfev6',\n",
       "       'rt applancer pro bitcoin finally opens us new opportunities https //t co/cvfj6voinl via applancer crypt',\n",
       "       'rt tvtwocom special interactive coin offering https //t co/lqu8spsfzr // tvrevolution crypto cryptocurrencies bitcoi\\x89û',\n",
       "       'nickbakhuis nzxt cpu eye waiting bitcoin gaining value before\\x89û https //t co/aeo5gceot6',\n",
       "       'cryptolexi negative sentiment stock market bitcoin plunge lot charts prove tha\\x89û https //t co/zrxpohkhy3',\n",
       "       'tim draper bitcoin replace indian rupee https //t co/bjz62j6bri via bounty fett https //t co/dnzr6trvo9',\n",
       "       'perhaps future built cryptographically secured data never die future want https //t co/7tvkcxqfmv',\n",
       "       'rt socialwalletinc 1500 cryptocurrencies worldwide counting btc bitcoin ltc litecoin eth ethereum blockchain blo\\x89û',\n",
       "       'rt rutgervz bitcoin core dev provoost blockchaingers hackathon discussing taking bitcoin moon literally rocke\\x89û',\n",
       "       'rt satoshilite lightning unforgeable forever redeemable gold certificates bitcoin gold also unforgeable forever redeemable si\\x89û',\n",
       "       'rt peurtoken https //t co/o5pyfzpow7 mobile payment solution accept ethereum one step easily converted oth\\x89û',\n",
       "       'seems like going repeat long stairways good lol ù bitcoin bitcoincash\\x89û https //t co/zueuvytqgt',\n",
       "       'rt coinmetro follow us https //t co/4wq3nxokys visit official website https //t co/c4ymmqxia6 bitcoin ethereum bitcoincash \\x89û',\n",
       "       'rt socialwalletinc don\\x89ûªt lose wallet lose access private secure wallet lost money alw\\x89û',\n",
       "       'without internet blockchain without blockchain bitcoin without bitcoin entire\\x89û https //t co/upwc282cbi',\n",
       "       'check chance win $ 1000 bitcoin coincheckup bitcoin btc https //t co/usbyqtxvyl',\n",
       "       'rt guppiix lock loaded restock get well hot https //t co/lrttlzimru cryptocurrency game trx restock sel\\x89û',\n",
       "       'rt slots e japan financial authority clarifies stance ico https //t co/rejxe2oxf3 rest world joins tu\\x89û',\n",
       "       'rt coinfest menu coinfest vancouver currently celebrating read bottom bitcoin gt credit cards https //t co\\x89û',\n",
       "       'rt socialwalletinc one many reasons decentralization attractive currency regulated central gove\\x89û',\n",
       "       'rt murthaburke save lot money 40 80 less retail stores shipping free 2 day sale https //t co/y26tnsinjr blockc\\x89û',\n",
       "       'crypto price changes last 4 hours ù û $ rads 7 93 $ blitz 6 63 $ tks 5 90 ùî¤\\x95ü\\x8f $ vrm 4 82 $ gbg 4 01 $ swt 3 70\\x89û https //t co/mam10h4qor',\n",
       "       'rt tihosay register website https //t co/gulmsgzzn7 starts 7 days tihosay ico blockchain crypto presale preico c\\x89û',\n",
       "       'rt investaco uk investa ceo interview \\x89ûò nick moore https //t co/mgcdlwgdsf investa blockchain crypto cryptocurrency bitcoin btc \\x89û',\n",
       "       'big boys talking look 4 $ spy 2k drop soon stockmarketcrash $ fb cryptohype cryptocrash cryptocurrency\\x89û https //t co/39bv1mrxj4',\n",
       "       'rt peermountain woow cannot miss peer mountain ceo jed grant chosen one top influential 200 fintech leader\\x89û'],\n",
       "      dtype='<U3365')"
      ]
     },
     "execution_count": 13,
     "metadata": {},
     "output_type": "execute_result"
    }
   ],
   "source": [
    "clean_headlines[0]"
   ]
  },
  {
   "cell_type": "code",
   "execution_count": 14,
   "metadata": {},
   "outputs": [],
   "source": [
    "def add_avg_sentiment_list(data):\n",
    "    sid = SentimentIntensityAnalyzer()\n",
    "    avgs = []\n",
    "    for i in range(0,len(data)):\n",
    "        inner_avg=[]\n",
    "        for j in range(0,len(data[0])):\n",
    "            sentiments=(sid.polarity_scores(str(data[i][j]))['compound'])\n",
    "            inner_avg.append(float(sentiments))\n",
    "        avgs.append(inner_avg)\n",
    "    avgs = np.array(avgs)\n",
    "    print(avgs.shape)\n",
    "    return avgs"
   ]
  },
  {
   "cell_type": "code",
   "execution_count": 15,
   "metadata": {},
   "outputs": [
    {
     "name": "stdout",
     "output_type": "stream",
     "text": [
      "(6091, 30)\n",
      "sentiment_include\n",
      "(6091, 30)\n"
     ]
    }
   ],
   "source": [
    "sentiment_included = add_avg_sentiment_list(clean_headlines)\n",
    "print(\"sentiment_include\")\n",
    "print(sentiment_included.shape)"
   ]
  },
  {
   "cell_type": "code",
   "execution_count": 16,
   "metadata": {},
   "outputs": [
    {
     "name": "stdout",
     "output_type": "stream",
     "text": [
      "[[ 0.      0.     -0.1531  0.      0.      0.3818  0.4019  0.6369 -0.5719\n",
      "   0.      0.6832  0.      0.      0.      0.743   0.802   0.     -0.6486\n",
      "   0.      0.7003  0.2732  0.296   0.8126  0.4404  0.7579  0.      0.      0.\n",
      "  -0.2732  0.768 ]\n",
      " [ 0.      0.     -0.1531  0.      0.      0.3818  0.4019  0.6369 -0.5719\n",
      "   0.      0.6832  0.      0.      0.      0.743   0.802   0.     -0.6486\n",
      "   0.      0.7003  0.2732  0.296   0.8126  0.4404  0.7579  0.      0.      0.\n",
      "  -0.2732  0.768 ]\n",
      " [ 0.      0.     -0.1531  0.      0.      0.3818  0.4019  0.6369 -0.5719\n",
      "   0.      0.6832  0.      0.      0.      0.743   0.802   0.     -0.6486\n",
      "   0.      0.7003  0.2732  0.296   0.8126  0.4404  0.7579  0.      0.      0.\n",
      "  -0.2732  0.768 ]\n",
      " [ 0.      0.     -0.1531  0.      0.      0.3818  0.4019  0.6369 -0.5719\n",
      "   0.      0.6832  0.      0.      0.      0.743   0.802   0.     -0.6486\n",
      "   0.      0.7003  0.2732  0.296   0.8126  0.4404  0.7579  0.      0.      0.\n",
      "  -0.2732  0.768 ]\n",
      " [ 0.      0.     -0.1531  0.      0.      0.3818  0.4019  0.6369 -0.5719\n",
      "   0.      0.6832  0.      0.      0.      0.743   0.802   0.     -0.6486\n",
      "   0.      0.7003  0.2732  0.296   0.8126  0.4404  0.7579  0.      0.      0.\n",
      "  -0.2732  0.768 ]\n",
      " [ 0.      0.     -0.1531  0.      0.      0.3818  0.4019  0.6369 -0.5719\n",
      "   0.      0.6832  0.      0.      0.      0.743   0.802   0.     -0.6486\n",
      "   0.      0.7003  0.2732  0.296   0.8126  0.4404  0.7579  0.      0.      0.\n",
      "  -0.2732  0.768 ]\n",
      " [ 0.      0.     -0.1531  0.      0.      0.3818  0.4019  0.6369 -0.5719\n",
      "   0.      0.6832  0.      0.      0.      0.743   0.802   0.     -0.6486\n",
      "   0.      0.7003  0.2732  0.296   0.8126  0.4404  0.7579  0.      0.      0.\n",
      "  -0.2732  0.768 ]\n",
      " [ 0.      0.     -0.1531  0.      0.      0.3818  0.4019  0.6369 -0.5719\n",
      "   0.      0.6832  0.      0.      0.      0.743   0.802   0.     -0.6486\n",
      "   0.      0.7003  0.2732  0.296   0.8126  0.4404  0.7579  0.      0.      0.\n",
      "  -0.2732  0.768 ]\n",
      " [ 0.      0.     -0.1531  0.      0.      0.3818  0.4019  0.6369 -0.5719\n",
      "   0.      0.6832  0.      0.      0.      0.743   0.802   0.     -0.6486\n",
      "   0.      0.7003  0.2732  0.296   0.8126  0.4404  0.7579  0.      0.      0.\n",
      "  -0.2732  0.768 ]\n",
      " [ 0.      0.     -0.1531  0.      0.      0.3818  0.4019  0.6369 -0.5719\n",
      "   0.      0.6832  0.      0.      0.      0.743   0.802   0.     -0.6486\n",
      "   0.      0.7003  0.2732  0.296   0.8126  0.4404  0.7579  0.      0.      0.\n",
      "  -0.2732  0.768 ]]\n"
     ]
    }
   ],
   "source": [
    "print(sentiment_included[:10])"
   ]
  },
  {
   "cell_type": "code",
   "execution_count": 17,
   "metadata": {},
   "outputs": [
    {
     "name": "stdout",
     "output_type": "stream",
     "text": [
      "[6999.8000000000002, 6984.1000000000004, 6984.1000000000004, 6984.1000000000004, 6984.1000000000004, 6984.1000000000004, 6983.6000000000004, 6983.1000000000004, 6983.1000000000004, 6983.1000000000004]\n"
     ]
    }
   ],
   "source": [
    "print(price_label[0:10])"
   ]
  },
  {
   "cell_type": "code",
   "execution_count": 27,
   "metadata": {},
   "outputs": [
    {
     "name": "stdout",
     "output_type": "stream",
     "text": [
      "[ 6999.8  6984.1  6984.1  6984.1  6984.1  6984.1  6983.6  6983.1  6983.1\n",
      "  6983.1]\n",
      "(6091,)\n"
     ]
    }
   ],
   "source": [
    "import numpy\n",
    "mylist_label = np.asarray((price_label))\n",
    "print(mylist_label[0:10])\n",
    "print(mylist_label.shape)"
   ]
  },
  {
   "cell_type": "code",
   "execution_count": 28,
   "metadata": {},
   "outputs": [],
   "source": [
    "def divide_train_test(data):\n",
    "\ttrain = data[:4500]\n",
    "\ttest = data[4500:]\n",
    "\treturn train, test"
   ]
  },
  {
   "cell_type": "code",
   "execution_count": 29,
   "metadata": {},
   "outputs": [],
   "source": [
    "train_set, test_set = divide_train_test(sentiment_included)"
   ]
  },
  {
   "cell_type": "code",
   "execution_count": 30,
   "metadata": {},
   "outputs": [
    {
     "name": "stdout",
     "output_type": "stream",
     "text": [
      "train_set\n",
      "(4500, 30)\n"
     ]
    }
   ],
   "source": [
    "print(\"train_set\")\n",
    "print(train_set.shape)"
   ]
  },
  {
   "cell_type": "code",
   "execution_count": 31,
   "metadata": {},
   "outputs": [],
   "source": [
    "def divide_train_label(data):\n",
    "\ttrain = data[:4500]\n",
    "\ttest = data[4500:]\n",
    "\treturn train, test"
   ]
  },
  {
   "cell_type": "code",
   "execution_count": 32,
   "metadata": {},
   "outputs": [],
   "source": [
    "train_label, test_label = divide_train_test(mylist_label)"
   ]
  },
  {
   "cell_type": "code",
   "execution_count": 33,
   "metadata": {},
   "outputs": [
    {
     "name": "stdout",
     "output_type": "stream",
     "text": [
      "train_labels\n",
      "(4500,)\n",
      "[ 6999.8  6984.1  6984.1  6984.1  6984.1  6984.1  6983.6  6983.1  6983.1\n",
      "  6983.1  6983.1  6983.1  6983.1  6983.1  6983.1  6983.1  6983.1  6983.1\n",
      "  6983.1  6983.1  6983.1  6983.1  6983.1  6983.1  6994.   6997.6  6997.6\n",
      "  6978.4  6982.9  6958.6]\n"
     ]
    }
   ],
   "source": [
    "print(\"train_labels\")\n",
    "print(train_label.shape)\n",
    "print(train_label[0:30])"
   ]
  },
  {
   "cell_type": "code",
   "execution_count": 34,
   "metadata": {},
   "outputs": [
    {
     "name": "stdout",
     "output_type": "stream",
     "text": [
      "test_labels\n",
      "(1591,)\n",
      "[ 8195.2  8195.2  8195.3 ...,  8277.   8291.8  8291.4]\n"
     ]
    }
   ],
   "source": [
    "print(\"test_labels\")\n",
    "print(test_label.shape)\n",
    "print(test_label[0:])"
   ]
  },
  {
   "cell_type": "code",
   "execution_count": 35,
   "metadata": {},
   "outputs": [
    {
     "name": "stdout",
     "output_type": "stream",
     "text": [
      "test_set\n",
      "(1591, 30)\n"
     ]
    }
   ],
   "source": [
    "print(\"test_set\")\n",
    "print(test_set.shape)"
   ]
  },
  {
   "cell_type": "code",
   "execution_count": 36,
   "metadata": {},
   "outputs": [
    {
     "name": "stderr",
     "output_type": "stream",
     "text": [
      "Using TensorFlow backend.\n"
     ]
    }
   ],
   "source": [
    "from keras.models import Sequential\n",
    "from keras.layers import Dense\n",
    "from keras.layers import LSTM\n",
    "import numpy"
   ]
  },
  {
   "cell_type": "code",
   "execution_count": 81,
   "metadata": {},
   "outputs": [],
   "source": [
    "def train(data, labels):\n",
    "\tprint(data.shape)\n",
    "\tprint(labels.shape)\n",
    "\tX = numpy.reshape(data, (len(data), 1, 1))\n",
    "# normalize\n",
    "\t#X = X / float(len(alphabet))\n",
    "# one hot encode the output variable\n",
    "\t#y = np_utils.to_categorical(dataY)\n",
    "# create and fit the model\n",
    "\tmodel = Sequential()\n",
    "\tmodel.add(LSTM(32, input_shape=(X.shape[1], X.shape[2])))\n",
    "\tmodel.add(Dense(1, activation='sigmoid'))\n",
    "\tmodel.compile(loss='mean_squared_error', optimizer='adam')\n",
    "\tmodel.fit(X,labels, epochs=30, batch_size=5, verbose=2)\n",
    "\treturn model"
   ]
  },
  {
   "cell_type": "code",
   "execution_count": 47,
   "metadata": {},
   "outputs": [
    {
     "name": "stdout",
     "output_type": "stream",
     "text": [
      "(4500, 1)\n",
      "(4500, 30)\n",
      "[[ 6999.8]\n",
      " [ 6984.1]\n",
      " [ 6984.1]\n",
      " [ 6984.1]\n",
      " [ 6984.1]\n",
      " [ 6984.1]\n",
      " [ 6983.6]\n",
      " [ 6983.1]\n",
      " [ 6983.1]\n",
      " [ 6983.1]]\n",
      "[[ 0.      0.     -0.1531  0.      0.      0.3818  0.4019  0.6369 -0.5719\n",
      "   0.      0.6832  0.      0.      0.      0.743   0.802   0.     -0.6486\n",
      "   0.      0.7003  0.2732  0.296   0.8126  0.4404  0.7579  0.      0.      0.\n",
      "  -0.2732  0.768 ]\n",
      " [ 0.      0.     -0.1531  0.      0.      0.3818  0.4019  0.6369 -0.5719\n",
      "   0.      0.6832  0.      0.      0.      0.743   0.802   0.     -0.6486\n",
      "   0.      0.7003  0.2732  0.296   0.8126  0.4404  0.7579  0.      0.      0.\n",
      "  -0.2732  0.768 ]\n",
      " [ 0.      0.     -0.1531  0.      0.      0.3818  0.4019  0.6369 -0.5719\n",
      "   0.      0.6832  0.      0.      0.      0.743   0.802   0.     -0.6486\n",
      "   0.      0.7003  0.2732  0.296   0.8126  0.4404  0.7579  0.      0.      0.\n",
      "  -0.2732  0.768 ]\n",
      " [ 0.      0.     -0.1531  0.      0.      0.3818  0.4019  0.6369 -0.5719\n",
      "   0.      0.6832  0.      0.      0.      0.743   0.802   0.     -0.6486\n",
      "   0.      0.7003  0.2732  0.296   0.8126  0.4404  0.7579  0.      0.      0.\n",
      "  -0.2732  0.768 ]\n",
      " [ 0.      0.     -0.1531  0.      0.      0.3818  0.4019  0.6369 -0.5719\n",
      "   0.      0.6832  0.      0.      0.      0.743   0.802   0.     -0.6486\n",
      "   0.      0.7003  0.2732  0.296   0.8126  0.4404  0.7579  0.      0.      0.\n",
      "  -0.2732  0.768 ]\n",
      " [ 0.      0.     -0.1531  0.      0.      0.3818  0.4019  0.6369 -0.5719\n",
      "   0.      0.6832  0.      0.      0.      0.743   0.802   0.     -0.6486\n",
      "   0.      0.7003  0.2732  0.296   0.8126  0.4404  0.7579  0.      0.      0.\n",
      "  -0.2732  0.768 ]\n",
      " [ 0.      0.     -0.1531  0.      0.      0.3818  0.4019  0.6369 -0.5719\n",
      "   0.      0.6832  0.      0.      0.      0.743   0.802   0.     -0.6486\n",
      "   0.      0.7003  0.2732  0.296   0.8126  0.4404  0.7579  0.      0.      0.\n",
      "  -0.2732  0.768 ]\n",
      " [ 0.      0.     -0.1531  0.      0.      0.3818  0.4019  0.6369 -0.5719\n",
      "   0.      0.6832  0.      0.      0.      0.743   0.802   0.     -0.6486\n",
      "   0.      0.7003  0.2732  0.296   0.8126  0.4404  0.7579  0.      0.      0.\n",
      "  -0.2732  0.768 ]\n",
      " [ 0.      0.     -0.1531  0.      0.      0.3818  0.4019  0.6369 -0.5719\n",
      "   0.      0.6832  0.      0.      0.      0.743   0.802   0.     -0.6486\n",
      "   0.      0.7003  0.2732  0.296   0.8126  0.4404  0.7579  0.      0.      0.\n",
      "  -0.2732  0.768 ]\n",
      " [ 0.      0.     -0.1531  0.      0.      0.3818  0.4019  0.6369 -0.5719\n",
      "   0.      0.6832  0.      0.      0.      0.743   0.802   0.     -0.6486\n",
      "   0.      0.7003  0.2732  0.296   0.8126  0.4404  0.7579  0.      0.      0.\n",
      "  -0.2732  0.768 ]\n",
      " [ 0.      0.     -0.1531  0.      0.      0.3818  0.4019  0.6369 -0.5719\n",
      "   0.      0.6832  0.      0.      0.      0.743   0.802   0.     -0.6486\n",
      "   0.      0.7003  0.2732  0.296   0.8126  0.4404  0.7579  0.      0.      0.\n",
      "  -0.2732  0.768 ]\n",
      " [ 0.      0.     -0.1531  0.      0.      0.3818  0.4019  0.6369 -0.5719\n",
      "   0.      0.6832  0.      0.      0.      0.743   0.802   0.     -0.6486\n",
      "   0.      0.7003  0.2732  0.296   0.8126  0.4404  0.7579  0.      0.      0.\n",
      "  -0.2732  0.768 ]\n",
      " [ 0.      0.     -0.1531  0.      0.      0.3818  0.4019  0.6369 -0.5719\n",
      "   0.      0.6832  0.      0.      0.      0.743   0.802   0.     -0.6486\n",
      "   0.      0.7003  0.2732  0.296   0.8126  0.4404  0.7579  0.      0.      0.\n",
      "  -0.2732  0.768 ]\n",
      " [ 0.      0.     -0.1531  0.      0.      0.3818  0.4019  0.6369 -0.5719\n",
      "   0.      0.6832  0.      0.      0.      0.743   0.802   0.     -0.6486\n",
      "   0.      0.7003  0.2732  0.296   0.8126  0.4404  0.7579  0.      0.      0.\n",
      "  -0.2732  0.768 ]\n",
      " [ 0.      0.     -0.1531  0.      0.      0.3818  0.4019  0.6369 -0.5719\n",
      "   0.      0.6832  0.      0.      0.      0.743   0.802   0.     -0.6486\n",
      "   0.      0.7003  0.2732  0.296   0.8126  0.4404  0.7579  0.      0.      0.\n",
      "  -0.2732  0.768 ]\n",
      " [ 0.      0.     -0.1531  0.      0.      0.3818  0.4019  0.6369 -0.5719\n",
      "   0.      0.6832  0.      0.      0.      0.743   0.802   0.     -0.6486\n",
      "   0.      0.7003  0.2732  0.296   0.8126  0.4404  0.7579  0.      0.      0.\n",
      "  -0.2732  0.768 ]\n",
      " [ 0.      0.     -0.1531  0.      0.      0.3818  0.4019  0.6369 -0.5719\n",
      "   0.      0.6832  0.      0.      0.      0.743   0.802   0.     -0.6486\n",
      "   0.      0.7003  0.2732  0.296   0.8126  0.4404  0.7579  0.      0.      0.\n",
      "  -0.2732  0.768 ]\n",
      " [ 0.      0.     -0.1531  0.      0.      0.3818  0.4019  0.6369 -0.5719\n",
      "   0.      0.6832  0.      0.      0.      0.743   0.802   0.     -0.6486\n",
      "   0.      0.7003  0.2732  0.296   0.8126  0.4404  0.7579  0.      0.      0.\n",
      "  -0.2732  0.768 ]\n",
      " [ 0.      0.     -0.1531  0.      0.      0.3818  0.4019  0.6369 -0.5719\n",
      "   0.      0.6832  0.      0.      0.      0.743   0.802   0.     -0.6486\n",
      "   0.      0.7003  0.2732  0.296   0.8126  0.4404  0.7579  0.      0.      0.\n",
      "  -0.2732  0.768 ]\n",
      " [ 0.      0.     -0.1531  0.      0.      0.3818  0.4019  0.6369 -0.5719\n",
      "   0.      0.6832  0.      0.      0.      0.743   0.802   0.     -0.6486\n",
      "   0.      0.7003  0.2732  0.296   0.8126  0.4404  0.7579  0.      0.      0.\n",
      "  -0.2732  0.768 ]\n",
      " [ 0.      0.     -0.1531  0.      0.      0.3818  0.4019  0.6369 -0.5719\n",
      "   0.      0.6832  0.      0.      0.      0.743   0.802   0.     -0.6486\n",
      "   0.      0.7003  0.2732  0.296   0.8126  0.4404  0.7579  0.      0.      0.\n",
      "  -0.2732  0.768 ]\n",
      " [ 0.      0.     -0.1531  0.      0.      0.3818  0.4019  0.6369 -0.5719\n",
      "   0.      0.6832  0.      0.      0.      0.743   0.802   0.     -0.6486\n",
      "   0.      0.7003  0.2732  0.296   0.8126  0.4404  0.7579  0.      0.      0.\n",
      "  -0.2732  0.768 ]\n",
      " [ 0.      0.     -0.1531  0.      0.      0.3818  0.4019  0.6369 -0.5719\n",
      "   0.      0.6832  0.      0.      0.      0.743   0.802   0.     -0.6486\n",
      "   0.      0.7003  0.2732  0.296   0.8126  0.4404  0.7579  0.      0.      0.\n",
      "  -0.2732  0.768 ]\n",
      " [ 0.      0.     -0.1531  0.      0.      0.3818  0.4019  0.6369 -0.5719\n",
      "   0.      0.6832  0.      0.      0.      0.743   0.802   0.     -0.6486\n",
      "   0.      0.7003  0.2732  0.296   0.8126  0.4404  0.7579  0.      0.      0.\n",
      "  -0.2732  0.768 ]\n",
      " [ 0.      0.     -0.1531  0.      0.      0.3818  0.4019  0.6369 -0.5719\n",
      "   0.      0.6832  0.      0.      0.      0.743   0.802   0.     -0.6486\n",
      "   0.      0.7003  0.2732  0.296   0.8126  0.4404  0.7579  0.      0.      0.\n",
      "  -0.2732  0.768 ]\n",
      " [ 0.      0.     -0.1531  0.      0.      0.3818  0.4019  0.6369 -0.5719\n",
      "   0.      0.6832  0.      0.      0.      0.743   0.802   0.     -0.6486\n",
      "   0.      0.7003  0.2732  0.296   0.8126  0.4404  0.7579  0.      0.6369\n",
      "   0.      0.1531  0.8402]\n",
      " [ 0.6369  0.      0.1531  0.8402  0.      0.3818  0.      0.      0.8126\n",
      "   0.      0.      0.      0.      0.296   0.      0.4404  0.3818  0.5994\n",
      "   0.      0.296   0.875   0.4404 -0.296   0.4939  0.6478  0.      0.4404\n",
      "   0.     -0.6486  0.128 ]\n",
      " [ 0.6369  0.      0.1531  0.8402  0.      0.3818  0.      0.      0.8126\n",
      "   0.      0.      0.      0.      0.296   0.      0.4404  0.3818  0.5994\n",
      "   0.      0.296   0.875   0.4404 -0.296   0.4939  0.6478  0.      0.4404\n",
      "   0.      0.      0.3182]\n",
      " [ 0.      0.      0.      0.      0.      0.      0.      0.      0.3612\n",
      "   0.      0.8271  0.      0.743   0.1779  0.6124  0.      0.      0.4019\n",
      "   0.5423  0.      0.6369  0.      0.      0.      0.128   0.     -0.2732\n",
      "   0.802  -0.296   0.    ]\n",
      " [ 0.      0.6369  0.     -0.2732  0.802  -0.296   0.      0.      0.\n",
      "  -0.1531  0.2023 -0.2263  0.9325  0.4767 -0.6597  0.2732  0.4019  0.\n",
      "   0.7506  0.2732  0.1779  0.      0.     -0.7096 -0.2755  0.128   0.6908\n",
      "   0.      0.3804  0.    ]]\n"
     ]
    }
   ],
   "source": [
    "train_label=numpy.reshape(train_label, (len(train_label),1))\n",
    "print (train_label.shape)\n",
    "print (train_set.shape)\n",
    "print (train_label[0:10])\n",
    "print (train_set[0:30])"
   ]
  },
  {
   "cell_type": "code",
   "execution_count": 48,
   "metadata": {},
   "outputs": [
    {
     "data": {
      "text/plain": [
       "array([[ 0.11683552],\n",
       "       [ 0.10555436],\n",
       "       [ 0.10555436],\n",
       "       [ 0.10555436],\n",
       "       [ 0.10555436],\n",
       "       [ 0.10555436],\n",
       "       [ 0.10519509],\n",
       "       [ 0.10483581],\n",
       "       [ 0.10483581],\n",
       "       [ 0.10483581]])"
      ]
     },
     "execution_count": 48,
     "metadata": {},
     "output_type": "execute_result"
    }
   ],
   "source": [
    "from sklearn.preprocessing import MinMaxScaler\n",
    "sc2 = MinMaxScaler()\n",
    "train_label_normal = sc2.fit_transform(train_label)\n",
    "train_label_normal[:10]"
   ]
  },
  {
   "cell_type": "code",
   "execution_count": 56,
   "metadata": {},
   "outputs": [
    {
     "data": {
      "text/plain": [
       "array([[ 6.0504],\n",
       "       [ 6.0504],\n",
       "       [ 6.0504],\n",
       "       ..., \n",
       "       [ 4.8163],\n",
       "       [ 4.8163],\n",
       "       [ 4.8163]])"
      ]
     },
     "execution_count": 56,
     "metadata": {},
     "output_type": "execute_result"
    }
   ],
   "source": [
    "sum_set_label=train_set.sum(axis=1)\n",
    "sum_set_label=numpy.reshape(sum_set_label,(len(sum_set_label),1))\n",
    "sum_set_label"
   ]
  },
  {
   "cell_type": "code",
   "execution_count": 69,
   "metadata": {},
   "outputs": [
    {
     "data": {
      "text/plain": [
       "(4500, 1)"
      ]
     },
     "execution_count": 69,
     "metadata": {},
     "output_type": "execute_result"
    }
   ],
   "source": [
    "train_label_normal.shape"
   ]
  },
  {
   "cell_type": "code",
   "execution_count": 82,
   "metadata": {
    "scrolled": false
   },
   "outputs": [
    {
     "name": "stdout",
     "output_type": "stream",
     "text": [
      "(4500, 1)\n",
      "(4500, 1)\n",
      "Epoch 1/30\n",
      "6s - loss: 0.0624\n",
      "Epoch 2/30\n",
      "5s - loss: 0.0475\n",
      "Epoch 3/30\n",
      "5s - loss: 0.0449\n",
      "Epoch 4/30\n",
      "6s - loss: 0.0397\n",
      "Epoch 5/30\n",
      "6s - loss: 0.0287\n",
      "Epoch 6/30\n",
      "6s - loss: 0.0206\n",
      "Epoch 7/30\n",
      "5s - loss: 0.0195\n",
      "Epoch 8/30\n",
      "6s - loss: 0.0193\n",
      "Epoch 9/30\n",
      "6s - loss: 0.0193\n",
      "Epoch 10/30\n",
      "6s - loss: 0.0193\n",
      "Epoch 11/30\n",
      "6s - loss: 0.0193\n",
      "Epoch 12/30\n",
      "6s - loss: 0.0193\n",
      "Epoch 13/30\n",
      "6s - loss: 0.0193\n",
      "Epoch 14/30\n",
      "5s - loss: 0.0192\n",
      "Epoch 15/30\n",
      "5s - loss: 0.0192\n",
      "Epoch 16/30\n",
      "6s - loss: 0.0192\n",
      "Epoch 17/30\n",
      "6s - loss: 0.0192\n",
      "Epoch 18/30\n",
      "6s - loss: 0.0192\n",
      "Epoch 19/30\n",
      "8s - loss: 0.0192\n",
      "Epoch 20/30\n",
      "7s - loss: 0.0192\n",
      "Epoch 21/30\n",
      "7s - loss: 0.0192\n",
      "Epoch 22/30\n",
      "7s - loss: 0.0192\n",
      "Epoch 23/30\n",
      "6s - loss: 0.0191\n",
      "Epoch 24/30\n",
      "7s - loss: 0.0192\n",
      "Epoch 25/30\n",
      "6s - loss: 0.0191\n",
      "Epoch 26/30\n",
      "6s - loss: 0.0191\n",
      "Epoch 27/30\n",
      "6s - loss: 0.0191\n",
      "Epoch 28/30\n",
      "6s - loss: 0.0191\n",
      "Epoch 29/30\n",
      "6s - loss: 0.0191\n",
      "Epoch 30/30\n",
      "6s - loss: 0.0191\n",
      "Training done.\n"
     ]
    }
   ],
   "source": [
    "clsfr = train(sum_set_label/100, train_label_normal)\n",
    "print(\"Training done.\")"
   ]
  },
  {
   "cell_type": "code",
   "execution_count": 83,
   "metadata": {},
   "outputs": [
    {
     "name": "stdout",
     "output_type": "stream",
     "text": [
      "<keras.models.Sequential object at 0x116343eb8>\n"
     ]
    }
   ],
   "source": [
    "print(clsfr)"
   ]
  },
  {
   "cell_type": "code",
   "execution_count": 70,
   "metadata": {},
   "outputs": [],
   "source": [
    "def cross_validate(data, labels, clsfr):\n",
    "\treturn cross_val_score(clsfr, data, labels, cv=5)"
   ]
  },
  {
   "cell_type": "code",
   "execution_count": 84,
   "metadata": {},
   "outputs": [
    {
     "name": "stdout",
     "output_type": "stream",
     "text": [
      "4384/4500 [============================>.] - ETA: 0s"
     ]
    }
   ],
   "source": [
    "predictions = clsfr.predict(numpy.reshape(sum_set_label, (len(sum_set_label), 1, 1))/100, verbose = True) "
   ]
  },
  {
   "cell_type": "code",
   "execution_count": 89,
   "metadata": {
    "scrolled": true
   },
   "outputs": [
    {
     "name": "stdout",
     "output_type": "stream",
     "text": [
      "[[ 0.82737541]\n",
      " [ 0.82737541]\n",
      " [ 0.82737541]\n",
      " [ 0.82737541]\n",
      " [ 0.82737541]\n",
      " [ 0.82737541]\n",
      " [ 0.82737541]\n",
      " [ 0.82737541]\n",
      " [ 0.82737541]\n",
      " [ 0.82737541]]\n",
      "[[ 0.11683552]\n",
      " [ 0.10555436]\n",
      " [ 0.10555436]\n",
      " [ 0.10555436]\n",
      " [ 0.10555436]\n",
      " [ 0.10555436]\n",
      " [ 0.10519509]\n",
      " [ 0.10483581]\n",
      " [ 0.10483581]\n",
      " [ 0.10483581]]\n"
     ]
    }
   ],
   "source": [
    "print(predictions[0:10])\n",
    "print(train_label_normal[0:10])"
   ]
  },
  {
   "cell_type": "code",
   "execution_count": 90,
   "metadata": {},
   "outputs": [
    {
     "data": {
      "image/png": "[encoded data removed]",
      "text/plain": [
       "<matplotlib.figure.Figure at 0x11635cc18>"
      ]
     },
     "metadata": {},
     "output_type": "display_data"
    }
   ],
   "source": [
    "import matplotlib.pyplot as plt\n",
    "plt.figure(figsize=(12,4))\n",
    "plt.plot(predictions)\n",
    "plt.plot(train_label_normal)\n",
    "plt.title(\"Predicted (blue) vs Actual (green) Opening Price Changes\")\n",
    "plt.xlabel(\"Testing instances\")\n",
    "plt.ylabel(\"Change in Opening Price\")\n",
    "plt.show()"
   ]
  },
  {
   "cell_type": "markdown",
   "metadata": {},
   "source": [
    "# svm one\n"
   ]
  },
  {
   "cell_type": "code",
   "execution_count": 91,
   "metadata": {},
   "outputs": [],
   "source": [
    "def svmtrain(data, labels):\n",
    "\tprint(data.shape)\n",
    "\tprint(labels.shape)\n",
    "\treturn svm.SVR(kernel='linear', C=1).fit(data, labels)"
   ]
  },
  {
   "cell_type": "code",
   "execution_count": 92,
   "metadata": {},
   "outputs": [
    {
     "name": "stdout",
     "output_type": "stream",
     "text": [
      "(4500, 1)\n",
      "(4500, 30)\n"
     ]
    }
   ],
   "source": [
    "print (train_label.shape)\n",
    "print (train_set.shape)"
   ]
  },
  {
   "cell_type": "code",
   "execution_count": 93,
   "metadata": {
    "scrolled": true
   },
   "outputs": [
    {
     "name": "stdout",
     "output_type": "stream",
     "text": [
      "(4500, 30)\n",
      "(4500, 1)\n"
     ]
    },
    {
     "name": "stderr",
     "output_type": "stream",
     "text": [
      "/Users/chengjielin/tensorflow/lib/python3.6/site-packages/sklearn/utils/validation.py:547: DataConversionWarning: A column-vector y was passed when a 1d array was expected. Please change the shape of y to (n_samples, ), for example using ravel().\n",
      "  y = column_or_1d(y, warn=True)\n"
     ]
    }
   ],
   "source": [
    "svmclsfr = svmtrain(train_set, train_label)"
   ]
  },
  {
   "cell_type": "code",
   "execution_count": 94,
   "metadata": {},
   "outputs": [
    {
     "name": "stdout",
     "output_type": "stream",
     "text": [
      "[ 7589.70073981  7589.70073981  7589.70073981  7589.70073981  7589.70073981\n",
      "  7589.70073981  7589.70073981  7589.70073981  7589.70073981  7589.70073981]\n",
      "[[ 6999.8]\n",
      " [ 6984.1]\n",
      " [ 6984.1]\n",
      " [ 6984.1]\n",
      " [ 6984.1]\n",
      " [ 6984.1]\n",
      " [ 6983.6]\n",
      " [ 6983.1]\n",
      " [ 6983.1]\n",
      " [ 6983.1]]\n"
     ]
    }
   ],
   "source": [
    "svmpredictions = svmclsfr.predict(train_set) \n",
    "print(svmpredictions[0:10])\n",
    "print(train_label[0:10])"
   ]
  },
  {
   "cell_type": "code",
   "execution_count": 95,
   "metadata": {},
   "outputs": [
    {
     "data": {
      "image/png": "[encoded data removed]",
      "text/plain": [
       "<matplotlib.figure.Figure at 0x27fb2f630>"
      ]
     },
     "metadata": {},
     "output_type": "display_data"
    }
   ],
   "source": [
    "import matplotlib.pyplot as plt\n",
    "plt.figure(figsize=(12,4))\n",
    "plt.plot(svmpredictions)\n",
    "plt.plot(train_label)\n",
    "plt.title(\"Predicted (blue) vs Actual (green) Opening Price Changes\")\n",
    "plt.xlabel(\"Testing instances\")\n",
    "plt.ylabel(\"Change in Opening Price\")\n",
    "plt.show()"
   ]
  },
  {
   "cell_type": "markdown",
   "metadata": {},
   "source": [
    "# LSTM 30 features and no sum"
   ]
  },
  {
   "cell_type": "code",
   "execution_count": null,
   "metadata": {},
   "outputs": [],
   "source": [
    "def new_lstm_train(data, labels):\n",
    "\tprint(data.shape)\n",
    "\tprint(labels.shape)\n",
    "\tX = numpy.reshape(data, (len(data), 1, 30))\n",
    "# normalize\n",
    "\t#X = X / float(len(alphabet))\n",
    "# one hot encode the output variable\n",
    "\t#y = np_utils.to_categorical(dataY)\n",
    "# create and fit the model\n",
    "\tmodel = Sequential()\n",
    "\tmodel.add(LSTM(32, input_shape=(X.shape[1], X.shape[2])))\n",
    "\tmodel.add(Dense(1, activation='sigmoid'))\n",
    "\tmodel.compile(loss='mean_squared_error', optimizer='adam')\n",
    "\tmodel.fit(X,labels, epochs=30, batch_size=5, verbose=2)\n",
    "\treturn model"
   ]
  },
  {
   "cell_type": "code",
   "execution_count": 100,
   "metadata": {},
   "outputs": [
    {
     "data": {
      "text/plain": [
       "array([[ 0.11683552],\n",
       "       [ 0.10555436],\n",
       "       [ 0.10555436],\n",
       "       [ 0.10555436],\n",
       "       [ 0.10555436],\n",
       "       [ 0.10555436],\n",
       "       [ 0.10519509],\n",
       "       [ 0.10483581],\n",
       "       [ 0.10483581],\n",
       "       [ 0.10483581]])"
      ]
     },
     "execution_count": 100,
     "metadata": {},
     "output_type": "execute_result"
    }
   ],
   "source": [
    "from sklearn.preprocessing import MinMaxScaler\n",
    "sc2 = MinMaxScaler()\n",
    "new_train_label_normal = sc2.fit_transform(train_label)\n",
    "new_train_label_normal[:10]"
   ]
  },
  {
   "cell_type": "code",
   "execution_count": 110,
   "metadata": {},
   "outputs": [
    {
     "data": {
      "text/plain": [
       "(4500, 30)"
      ]
     },
     "execution_count": 110,
     "metadata": {},
     "output_type": "execute_result"
    }
   ],
   "source": [
    "new_train_set=train_set\n",
    "new_train_set.shape"
   ]
  },
  {
   "cell_type": "code",
   "execution_count": 111,
   "metadata": {
    "scrolled": false
   },
   "outputs": [
    {
     "name": "stdout",
     "output_type": "stream",
     "text": [
      "(4500, 30)\n",
      "(4500, 1)\n",
      "Epoch 1/30\n",
      "28s - loss: 0.0083\n",
      "Epoch 2/30\n",
      "25s - loss: 0.0057\n",
      "Epoch 3/30\n",
      "25s - loss: 0.0055\n",
      "Epoch 4/30\n",
      "25s - loss: 0.0052\n",
      "Epoch 5/30\n",
      "25s - loss: 0.0050\n",
      "Epoch 6/30\n",
      "25s - loss: 0.0048\n",
      "Epoch 7/30\n",
      "25s - loss: 0.0046\n",
      "Epoch 8/30\n",
      "27s - loss: 0.0042\n",
      "Epoch 9/30\n",
      "25s - loss: 0.0041\n",
      "Epoch 10/30\n",
      "32s - loss: 0.0038\n",
      "Epoch 11/30\n",
      "30s - loss: 0.0035\n",
      "Epoch 12/30\n",
      "28s - loss: 0.0033\n",
      "Epoch 13/30\n",
      "28s - loss: 0.0031\n",
      "Epoch 14/30\n",
      "29s - loss: 0.0030\n",
      "Epoch 15/30\n",
      "28s - loss: 0.0029\n",
      "Epoch 16/30\n",
      "27s - loss: 0.0028\n",
      "Epoch 17/30\n",
      "29s - loss: 0.0028\n",
      "Epoch 18/30\n",
      "29s - loss: 0.0027\n",
      "Epoch 19/30\n",
      "27s - loss: 0.0027\n",
      "Epoch 20/30\n",
      "30s - loss: 0.0027\n",
      "Epoch 21/30\n",
      "33s - loss: 0.0027\n",
      "Epoch 22/30\n",
      "30s - loss: 0.0027\n",
      "Epoch 23/30\n",
      "29s - loss: 0.0027\n",
      "Epoch 24/30\n",
      "32s - loss: 0.0027\n",
      "Epoch 25/30\n",
      "33s - loss: 0.0026\n",
      "Epoch 26/30\n",
      "29s - loss: 0.0026\n",
      "Epoch 27/30\n",
      "27s - loss: 0.0026\n",
      "Epoch 28/30\n",
      "28s - loss: 0.0026\n",
      "Epoch 29/30\n",
      "28s - loss: 0.0026\n",
      "Epoch 30/30\n",
      "27s - loss: 0.0026\n",
      "Training done.\n"
     ]
    }
   ],
   "source": [
    "new_lstm_clsfr = new_lstm_train(new_train_set, new_train_label_normal)\n",
    "print(\"Training done.\")"
   ]
  },
  {
   "cell_type": "code",
   "execution_count": 113,
   "metadata": {},
   "outputs": [
    {
     "name": "stdout",
     "output_type": "stream",
     "text": [
      "4320/4500 [===========================>..] - ETA: 0s"
     ]
    }
   ],
   "source": [
    "new_lstm_predictions = new_lstm_clsfr.predict(numpy.reshape(new_train_set, (len(new_train_set), 1, 30)), verbose = True) "
   ]
  },
  {
   "cell_type": "code",
   "execution_count": null,
   "metadata": {},
   "outputs": [],
   "source": [
    "# uniform"
   ]
  },
  {
   "cell_type": "code",
   "execution_count": 114,
   "metadata": {},
   "outputs": [
    {
     "name": "stdout",
     "output_type": "stream",
     "text": [
      "[[ 0.09892602]\n",
      " [ 0.09892602]\n",
      " [ 0.09892602]\n",
      " [ 0.09892602]\n",
      " [ 0.09892602]\n",
      " [ 0.09892602]\n",
      " [ 0.09892602]\n",
      " [ 0.09892602]\n",
      " [ 0.09892602]\n",
      " [ 0.09892602]]\n",
      "[[ 0.11683552]\n",
      " [ 0.10555436]\n",
      " [ 0.10555436]\n",
      " [ 0.10555436]\n",
      " [ 0.10555436]\n",
      " [ 0.10555436]\n",
      " [ 0.10519509]\n",
      " [ 0.10483581]\n",
      " [ 0.10483581]\n",
      " [ 0.10483581]]\n"
     ]
    }
   ],
   "source": [
    "print(new_lstm_predictions[0:10])\n",
    "print(new_train_label_normal[0:10])"
   ]
  },
  {
   "cell_type": "code",
   "execution_count": 115,
   "metadata": {},
   "outputs": [
    {
     "data": {
      "image/png": "[encoded data removed]",
      "text/plain": [
       "<matplotlib.figure.Figure at 0x2864b9eb8>"
      ]
     },
     "metadata": {},
     "output_type": "display_data"
    }
   ],
   "source": [
    "import matplotlib.pyplot as plt\n",
    "plt.figure(figsize=(12,4))\n",
    "plt.plot(new_lstm_predictions,'r')\n",
    "plt.plot(new_train_label_normal,'g')\n",
    "plt.title(\"Predicted (blue) vs Actual (green) Opening Price Changes\")\n",
    "plt.xlabel(\"Testing instances\")\n",
    "plt.ylabel(\"Change in Opening Price\")\n",
    "plt.show()"
   ]
  },
  {
   "cell_type": "markdown",
   "metadata": {},
   "source": [
    "# LSTM 30 TIMESTEPS WITH SUM"
   ]
  },
  {
   "cell_type": "code",
   "execution_count": 116,
   "metadata": {},
   "outputs": [
    {
     "data": {
      "text/plain": [
       "array([[ 0.11683552],\n",
       "       [ 0.10555436],\n",
       "       [ 0.10555436],\n",
       "       [ 0.10555436],\n",
       "       [ 0.10555436],\n",
       "       [ 0.10555436],\n",
       "       [ 0.10519509],\n",
       "       [ 0.10483581],\n",
       "       [ 0.10483581],\n",
       "       [ 0.10483581]])"
      ]
     },
     "execution_count": 116,
     "metadata": {},
     "output_type": "execute_result"
    }
   ],
   "source": [
    "from sklearn.preprocessing import MinMaxScaler\n",
    "sc2 = MinMaxScaler()\n",
    "train_label_timestep = sc2.fit_transform(train_label)\n",
    "train_label_timestep[:10]"
   ]
  },
  {
   "cell_type": "code",
   "execution_count": 117,
   "metadata": {},
   "outputs": [
    {
     "data": {
      "text/plain": [
       "array([[ 6.0504],\n",
       "       [ 6.0504],\n",
       "       [ 6.0504],\n",
       "       ..., \n",
       "       [ 4.8163],\n",
       "       [ 4.8163],\n",
       "       [ 4.8163]])"
      ]
     },
     "execution_count": 117,
     "metadata": {},
     "output_type": "execute_result"
    }
   ],
   "source": [
    "sum_set_timestep=train_set.sum(axis=1)\n",
    "sum_set_timestep=numpy.reshape(sum_set_timestep,(len(sum_set_timestep),1))\n",
    "sum_set_timestep"
   ]
  },
  {
   "cell_type": "code",
   "execution_count": 121,
   "metadata": {},
   "outputs": [
    {
     "name": "stdout",
     "output_type": "stream",
     "text": [
      "(4500, 1)\n",
      "(4500, 1)\n",
      "4500\n"
     ]
    }
   ],
   "source": [
    "print (sum_set_timestep.shape)\n",
    "print(train_label_timestep.shape)\n",
    "print (len(sum_set_timestep))"
   ]
  },
  {
   "cell_type": "code",
   "execution_count": 186,
   "metadata": {},
   "outputs": [
    {
     "name": "stdout",
     "output_type": "stream",
     "text": [
      "4440\n",
      "[ 4.8163  4.8163  4.8163  4.8163  4.8163  4.8163  4.8163  4.8163  4.8163\n",
      "  4.8163  4.8163  4.8163  4.8163  4.8163  4.8163  4.8163  4.8163  4.8163\n",
      "  4.8163  4.8163  4.8163  4.8163  4.8163  4.8163  4.8163  4.8163  4.8163\n",
      "  4.8163  4.8163  4.8163]\n",
      "4440\n",
      "[ 0.98491054  0.98685061  0.98491054  0.98491054  0.98491054  0.98491054\n",
      "  0.99568873  0.99468276  0.98081483  0.98081483  0.9851261   0.9905152\n",
      "  0.9905152   0.98634763  0.99547316  0.99547316  0.98720989  0.9732701\n",
      "  0.97420421  0.97420421  0.97212043  0.97212043  0.99374865  0.99374865\n",
      "  0.99374865  0.99374865  0.99374865  0.99123374  0.99123374  0.9811741 ]\n"
     ]
    }
   ],
   "source": [
    "seq_length = 30\n",
    "dataX = []\n",
    "dataY = []\n",
    "for i in range(0, len(sum_set_timestep) - seq_length-seq_length, 1):\n",
    "    seq_in=[]\n",
    "    seq_in = sum_set_timestep[i:i + seq_length]\n",
    "    seq_in=numpy.reshape(seq_in,(len(seq_in),))\n",
    "    dataX.append(seq_in)\n",
    "print (len(dataX))\n",
    "print (dataX[4439])\n",
    "\n",
    "for i in range(seq_length, len(train_label_timestep) - seq_length, 1):\n",
    "    seq_out = train_label_timestep[i:i + seq_length]\n",
    "    seq_out=numpy.reshape(seq_out,(len(seq_out),))\n",
    "    dataY.append(seq_out)\n",
    "print (len(dataY))\n",
    "print (dataY[4439])"
   ]
  },
  {
   "cell_type": "code",
   "execution_count": 187,
   "metadata": {},
   "outputs": [
    {
     "name": "stdout",
     "output_type": "stream",
     "text": [
      "(4440, 30)\n",
      "(4440, 30)\n"
     ]
    }
   ],
   "source": [
    "dataX=numpy.reshape(dataX,(len(dataX),30))\n",
    "dataY=numpy.reshape(dataY,(len(dataY),30))\n",
    "print (dataX.shape)\n",
    "print (dataY.shape)"
   ]
  },
  {
   "cell_type": "code",
   "execution_count": 195,
   "metadata": {},
   "outputs": [
    {
     "data": {
      "text/plain": [
       "-1.5272999999999999"
      ]
     },
     "execution_count": 195,
     "metadata": {},
     "output_type": "execute_result"
    }
   ],
   "source": [
    "numpy.amin(dataX)"
   ]
  },
  {
   "cell_type": "code",
   "execution_count": 204,
   "metadata": {},
   "outputs": [],
   "source": [
    "from keras.layers import TimeDistributed\n",
    "def lstm_train_timestep(data, labels):\n",
    "    print(data.shape)\n",
    "    print(labels.shape)\n",
    "    X = numpy.reshape(data, (len(data), 30, 1))\n",
    "    Y = numpy.reshape(labels, (len(labels), 30, 1))\n",
    "# normalize\n",
    "    #X = X / float(len(alphabet))\n",
    "# one hot encode the output variable\n",
    "    #y = np_utils.to_categorical(dataY)\n",
    "# create and fit the model\n",
    "    model = Sequential()\n",
    "    model.add(LSTM(32, input_shape=(X.shape[1], X.shape[2]),return_sequences=True))\n",
    "    model.add(TimeDistributed(Dense(1, activation='sigmoid')))\n",
    "    model.compile(loss='mean_squared_error', optimizer='adam')\n",
    "    model.fit(X,Y, epochs=30, batch_size=5, verbose=2)\n",
    "    return model"
   ]
  },
  {
   "cell_type": "code",
   "execution_count": 205,
   "metadata": {},
   "outputs": [
    {
     "name": "stdout",
     "output_type": "stream",
     "text": [
      "(4440, 30)\n",
      "(4440, 30)\n",
      "Epoch 1/30\n",
      "54s - loss: 0.0240\n",
      "Epoch 2/30\n",
      "67s - loss: 0.0151\n",
      "Epoch 3/30\n",
      "70s - loss: 0.0116\n",
      "Epoch 4/30\n",
      "63s - loss: 0.0108\n",
      "Epoch 5/30\n",
      "65s - loss: 0.0112\n",
      "Epoch 6/30\n",
      "66s - loss: 0.0121\n",
      "Epoch 7/30\n",
      "72s - loss: 0.0106\n",
      "Epoch 8/30\n",
      "63s - loss: 0.0093\n",
      "Epoch 9/30\n",
      "63s - loss: 0.0091\n",
      "Epoch 10/30\n",
      "67s - loss: 0.0088\n",
      "Epoch 11/30\n",
      "62s - loss: 0.0088\n",
      "Epoch 12/30\n",
      "67s - loss: 0.0085\n",
      "Epoch 13/30\n",
      "67s - loss: 0.0082\n",
      "Epoch 14/30\n",
      "59s - loss: 0.0082\n",
      "Epoch 15/30\n",
      "54s - loss: 0.0083\n",
      "Epoch 16/30\n",
      "52s - loss: 0.0078\n",
      "Epoch 17/30\n",
      "52s - loss: 0.0077\n",
      "Epoch 18/30\n",
      "53s - loss: 0.0076\n",
      "Epoch 19/30\n",
      "55s - loss: 0.0076\n",
      "Epoch 20/30\n",
      "57s - loss: 0.0076\n",
      "Epoch 21/30\n",
      "63s - loss: 0.0073\n",
      "Epoch 22/30\n",
      "65s - loss: 0.0072\n",
      "Epoch 23/30\n",
      "64s - loss: 0.0072\n",
      "Epoch 24/30\n",
      "56s - loss: 0.0074\n",
      "Epoch 25/30\n",
      "56s - loss: 0.0069\n",
      "Epoch 26/30\n",
      "64s - loss: 0.0069\n",
      "Epoch 27/30\n",
      "74s - loss: 0.0067\n",
      "Epoch 28/30\n",
      "64s - loss: 0.0066\n",
      "Epoch 29/30\n",
      "60s - loss: 0.0066\n",
      "Epoch 30/30\n",
      "59s - loss: 0.0068\n"
     ]
    }
   ],
   "source": [
    "lstm_clsfr_timestep = lstm_train_timestep(dataX, dataY)"
   ]
  },
  {
   "cell_type": "code",
   "execution_count": 206,
   "metadata": {},
   "outputs": [],
   "source": [
    "lstm_predictions_timestep = lstm_clsfr_timestep.predict(numpy.reshape(dataX, (len(dataX), 30, 1)), verbose = 0) "
   ]
  },
  {
   "cell_type": "code",
   "execution_count": 207,
   "metadata": {},
   "outputs": [
    {
     "data": {
      "text/plain": [
       "(4440, 30, 1)"
      ]
     },
     "execution_count": 207,
     "metadata": {},
     "output_type": "execute_result"
    }
   ],
   "source": [
    "lstm_predictions_timestep.shape"
   ]
  },
  {
   "cell_type": "code",
   "execution_count": 208,
   "metadata": {},
   "outputs": [
    {
     "data": {
      "text/plain": [
       "array([[ 0.76423949],\n",
       "       [ 0.60362524],\n",
       "       [ 0.39262378],\n",
       "       [ 0.24778976],\n",
       "       [ 0.19021432],\n",
       "       [ 0.17925152],\n",
       "       [ 0.18059038],\n",
       "       [ 0.17999798],\n",
       "       [ 0.17794321],\n",
       "       [ 0.17705467],\n",
       "       [ 0.17686267],\n",
       "       [ 0.17653739],\n",
       "       [ 0.17610842],\n",
       "       [ 0.17578699],\n",
       "       [ 0.17557019],\n",
       "       [ 0.17538762],\n",
       "       [ 0.17522366],\n",
       "       [ 0.1750883 ],\n",
       "       [ 0.17498079],\n",
       "       [ 0.17489311],\n",
       "       [ 0.17482048],\n",
       "       [ 0.17476112],\n",
       "       [ 0.17471305],\n",
       "       [ 0.17467417],\n",
       "       [ 0.17464259],\n",
       "       [ 0.16961391],\n",
       "       [ 0.17091197],\n",
       "       [ 0.15676369],\n",
       "       [ 0.15708995],\n",
       "       [ 0.19536567]], dtype=float32)"
      ]
     },
     "execution_count": 208,
     "metadata": {},
     "output_type": "execute_result"
    }
   ],
   "source": [
    "lstm_predictions_timestep[0]"
   ]
  },
  {
   "cell_type": "code",
   "execution_count": 213,
   "metadata": {},
   "outputs": [
    {
     "data": {
      "text/plain": [
       "array([ 0.39262378], dtype=float32)"
      ]
     },
     "execution_count": 213,
     "metadata": {},
     "output_type": "execute_result"
    }
   ],
   "source": [
    "lstm_predictions_timestep[2][2]"
   ]
  },
  {
   "cell_type": "code",
   "execution_count": 238,
   "metadata": {},
   "outputs": [
    {
     "data": {
      "image/png": "[encoded data removed]",
      "text/plain": [
       "<matplotlib.figure.Figure at 0x282a207b8>"
      ]
     },
     "metadata": {},
     "output_type": "display_data"
    }
   ],
   "source": [
    "import matplotlib.pyplot as plt\n",
    "plt.figure(figsize=(12,4))\n",
    "plt.plot(sc2.inverse_transform(lstm_predictions_timestep[2900])+50,'r')\n",
    "plt.plot(sc2.inverse_transform(numpy.reshape(dataY[2900], (len(dataY[4438]), 1))),'g')\n",
    "plt.title(\"Predicted (red) vs Actual (green) Opening Price Changes\")\n",
    "plt.xlabel(\"Testing instances\")\n",
    "plt.ylabel(\"Change in Opening Price\")\n",
    "plt.show()"
   ]
  },
  {
   "cell_type": "code",
   "execution_count": null,
   "metadata": {},
   "outputs": [],
   "source": []
  }
 ],
 "metadata": {
  "kernelspec": {
   "display_name": "Python 3",
   "language": "python",
   "name": "python3"
  },
  "language_info": {
   "codemirror_mode": {
    "name": "ipython",
    "version": 3
   },
   "file_extension": ".py",
   "mimetype": "text/x-python",
   "name": "python",
   "nbconvert_exporter": "python",
   "pygments_lexer": "ipython3",
   "version": "3.6.2"
  }
 },
 "nbformat": 4,
 "nbformat_minor": 2
}
